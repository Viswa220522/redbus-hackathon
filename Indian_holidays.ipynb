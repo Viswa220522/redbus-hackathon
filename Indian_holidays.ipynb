{
 "cells": [
  {
   "cell_type": "code",
   "execution_count": 1,
   "id": "c0d6bca8-9527-4b97-bd33-10f1df9650c3",
   "metadata": {},
   "outputs": [],
   "source": [
    "import requests\n",
    "\n",
    "# Define the base URL and parameters\n",
    "base_url = \"https://api.11holidays.com/v1/holidays\"\n",
    "country_code = \"IN\"  # India\n",
    "\n",
    "# Function to fetch holidays for a given year\n",
    "def fetch_holidays(year):\n",
    "    url = f\"{base_url}?country={country_code}&year={year}\"\n",
    "    response = requests.get(url)\n",
    "    if response.status_code == 200:\n",
    "        return response.json()\n",
    "    else:\n",
    "        print(f\"Failed to fetch data for {year}. Status code: {response.status_code}\")\n",
    "        return None\n",
    "\n",
    "# Fetch holidays for 2023, 2024, and 2025\n",
    "holidays_2023 = fetch_holidays(2023)\n",
    "holidays_2024 = fetch_holidays(2024)\n",
    "holidays_2025 = fetch_holidays(2025)\n",
    "\n",
    "# Combine the data\n",
    "all_holidays = holidays_2023 + holidays_2024 + holidays_2025\n"
   ]
  },
  {
   "cell_type": "code",
   "execution_count": 2,
   "id": "d99d3f58-a82a-4ee6-ad12-9b1ac4dcf2f3",
   "metadata": {},
   "outputs": [
    {
     "name": "stdout",
     "output_type": "stream",
     "text": [
      "   holiday_id             name       date description  occasion_id country  \\\n",
      "0        6952   New Year's Day 2023-01-01   undefined         7017      IN   \n",
      "1        6953  Makar Sankranti 2023-01-14   undefined         7018      IN   \n",
      "2        6954            Lohri 2023-01-14   undefined         7019      IN   \n",
      "3        6955           Pongal 2023-01-15   undefined         7020      IN   \n",
      "4        6956   Lunar New Year 2023-01-22   undefined         7021      IN   \n",
      "\n",
      "                 type           created_at updated_at  \n",
      "0  Restricted Holiday  2023-10-30 12:57:42       None  \n",
      "1  Restricted Holiday  2023-10-30 12:57:42       None  \n",
      "2          Observance  2023-10-30 12:57:42       None  \n",
      "3  Restricted Holiday  2023-10-30 12:57:42       None  \n",
      "4          Observance  2023-10-30 12:57:42       None  \n"
     ]
    }
   ],
   "source": [
    "import pandas as pd\n",
    "\n",
    "# Convert to DataFrame\n",
    "holidays_df = pd.DataFrame(all_holidays)\n",
    "\n",
    "# Convert 'date' to datetime\n",
    "holidays_df['date'] = pd.to_datetime(holidays_df['date'])\n",
    "\n",
    "# Save to CSV\n",
    "holidays_df.to_csv(\"indian_holidays_2023_2025.csv\", index=False)\n",
    "\n",
    "# Display the first few rows\n",
    "print(holidays_df.head())\n"
   ]
  },
  {
   "cell_type": "code",
   "execution_count": null,
   "id": "ba844d93-5e65-4ab5-a267-31bd47a58510",
   "metadata": {},
   "outputs": [],
   "source": []
  }
 ],
 "metadata": {
  "kernelspec": {
   "display_name": "Python 3 (ipykernel)",
   "language": "python",
   "name": "python3"
  },
  "language_info": {
   "codemirror_mode": {
    "name": "ipython",
    "version": 3
   },
   "file_extension": ".py",
   "mimetype": "text/x-python",
   "name": "python",
   "nbconvert_exporter": "python",
   "pygments_lexer": "ipython3",
   "version": "3.11.9"
  }
 },
 "nbformat": 4,
 "nbformat_minor": 5
}
