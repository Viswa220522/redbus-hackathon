{
 "cells": [
  {
   "cell_type": "markdown",
   "id": "fd9b8777-4694-4f13-a9c9-a234f2482164",
   "metadata": {},
   "source": [
    "# Index\n",
    "\n",
    "## [Libraries](#1.-Import-the-Libraries)\n",
    "## [Analysis](#2.-Preliminary-Analysis)\n",
    "## [Preprocessing]"
   ]
  },
  {
   "cell_type": "markdown",
   "id": "1c64c22f-1220-48dc-9965-1d7fa88e5aa5",
   "metadata": {
    "jp-MarkdownHeadingCollapsed": true
   },
   "source": [
    "# 🚌 Bus Demand Forecasting Hackathon"
   ]
  },
  {
   "attachments": {},
   "cell_type": "markdown",
   "id": "67f0b4dc-2394-4477-a0e2-d9fa65562b13",
   "metadata": {
    "jp-MarkdownHeadingCollapsed": true
   },
   "source": [
    "## 📌 Problem Statement\n",
    "\n",
    "Accurately forecasting demand for bus journeys is a complex task due to the influence of multiple factors. These include:\n",
    "\n",
    "- **Holiday calendars**\n",
    "- **Wedding seasons**\n",
    "- **Long weekends**\n",
    "- **School vacations**\n",
    "- **Exam schedules**\n",
    "- **Day-of-week effects**\n",
    "- **Regional holidays** (impact varies by region)\n",
    "\n",
    "> Not all holidays cause significant changes in demand, making this a non-trivial modeling problem.\n",
    "\n",
    "---\n",
    "\n",
    "## 🎯 Objective\n",
    "\n",
    "Develop a predictive model that forecasts the **total number of seats booked** for a given **route** and **date of journey**, exactly **15 days before the travel date**.\n",
    "\n",
    "---\n",
    "\n",
    "## 📂 Provided Data\n",
    "\n",
    "You will be given historical data from the platform, which includes:\n",
    "\n",
    "- `seats_booked`: Number of seats booked (actual demand)\n",
    "- `date_of_journey`: The actual travel date\n",
    "- `date_of_issue`: The date when the ticket was booked\n",
    "- `search_data`: Number of user searches for a specific journey on a given booking date\n",
    "\n",
    "---\n",
    "\n",
    "## 🧠 Challenge Details\n",
    "\n",
    "You need to predict the **final demand (total seats booked)** for each route, **15 days in advance** of the travel date.\n",
    "\n",
    "### ✅ Example\n",
    "\n",
    "- **Route**: Source City \"A\" → Destination City \"B\"\n",
    "- **Date of Journey (DOJ)**: `30-Jan-2025`\n",
    "- **Prediction Date**: `16-Jan-2025` (15 days prior to DOJ)\n",
    "\n",
    "Your model should predict the **total expected bookings** on the prediction date for the journey date.\n",
    "\n",
    "---\n",
    "\n",
    "## 📥 Data Access\n",
    "\n",
    "Download the training and testing datasets from the links provided at the bottom of the problem statement.\n",
    "\n",
    "---\n",
    "\n",
    "## 🔧 Next Steps\n",
    "\n",
    "1. Exploratory Data Analysis (EDA)\n",
    "2. Feature Engineering\n",
    "3. Model Building\n",
    "4. Evaluation and Validation\n",
    "5. Final Predictions\n",
    "\n"
   ]
  },
  {
   "cell_type": "markdown",
   "id": "d1f5b6b6-77bb-4971-b928-0e73ff9e6f68",
   "metadata": {},
   "source": [
    "# Data"
   ]
  },
  {
   "cell_type": "markdown",
   "id": "72aa8c10-e4a2-4fc2-bbc6-ce2282b81041",
   "metadata": {
    "jp-MarkdownHeadingCollapsed": true
   },
   "source": [
    "## Data Collection"
   ]
  },
  {
   "cell_type": "markdown",
   "id": "10103c3f-c6ca-4b96-a22d-a03eff62561b",
   "metadata": {},
   "source": [
    "Data - https://www.analyticsvidhya.com/datahack/contest/redbus-data-decode-hackathon-2025/\n",
    "1. train_csv => rows - 67200, columns - 4\n",
    "  - ['doj', 'srcid', 'destid', 'final_seatcount']\n",
    "2. test_csv  => rows - 5900, columns - 4\n",
    "  - ['route_key', 'doj', 'srcid', 'destid']\n",
    "3. transactions.csv => rows - 22661000, columns - 11\n",
    "  - ['doj', 'doi', 'srcid', 'destid', 'srcid_region', 'destid_region',\n",
    "       'srcid_tier', 'destid_tier', 'cumsum_seatcount', 'cumsum_searchcount',\n",
    "       'dbd']"
   ]
  },
  {
   "cell_type": "markdown",
   "id": "098eb9b1-0d91-43d3-a301-c110976325df",
   "metadata": {},
   "source": [
    "## Import the required Libraries"
   ]
  },
  {
   "cell_type": "code",
   "execution_count": 1,
   "id": "462b4396-c9fc-4efb-97cb-a564c779f1b5",
   "metadata": {},
   "outputs": [],
   "source": [
    "import numpy  as np\n",
    "import pandas as pd\n",
    "import matplotlib.pyplot as plt\n",
    "import seaborn as sns\n",
    "\n",
    "from sklearn.preprocessing import OrdinalEncoder\n",
    "\n",
    "from sklearn.model_selection import train_test_split\n",
    "\n",
    "from sklearn.metrics import mean_squared_error\n",
    "\n",
    "from xgboost import XGBRegressor"
   ]
  },
  {
   "cell_type": "markdown",
   "id": "7bec1008-a933-413a-9faf-776fc9b825a5",
   "metadata": {},
   "source": [
    "## Load the Data"
   ]
  },
  {
   "cell_type": "code",
   "execution_count": 2,
   "id": "8418bd66-9728-458b-89d6-a6f727846f51",
   "metadata": {},
   "outputs": [],
   "source": [
    "train_data = pd.read_csv(\"train.csv\")\n",
    "test_data = pd.read_csv(\"test.csv\")\n",
    "transactions_data = pd.read_csv(\"transactions.csv\")"
   ]
  },
  {
   "cell_type": "code",
   "execution_count": 3,
   "id": "b20ab88e-cbea-4b71-889e-73fecff9c197",
   "metadata": {},
   "outputs": [],
   "source": [
    "train_df = train_data.copy()\n",
    "test_df = test_data.copy()\n",
    "test_df = test_df.drop('route_key', axis = 1)\n",
    "trans_df = transactions_data.copy()"
   ]
  },
  {
   "cell_type": "markdown",
   "id": "ae3bea9e-8e6c-4535-abf1-a3ff2e448aac",
   "metadata": {},
   "source": [
    "### Holidays "
   ]
  },
  {
   "cell_type": "code",
   "execution_count": 4,
   "id": "4132bf6f-7cd3-41f0-92ab-c176359b74b6",
   "metadata": {},
   "outputs": [],
   "source": [
    "holiday_df = pd.read_csv('indian_holidays_2023_2025.csv')\n",
    "holiday_df = holiday_df[holiday_df['type'] == 'Restricted Holiday']\n",
    "# print(holiday_df.shape) # (112, 9)\n",
    "holiday_df = holiday_df.drop(['type', 'description','country', 'created_at', 'updated_at'], axis = 1)\n",
    "# print(holiday_df.shape) # (112, 4)\n",
    "holiday_df = holiday_df.rename({'date': 'doh'}, axis = 1)\n",
    "# holiday_df['doh'] = pd.to_datetime(holiday_df['doh'], format = '%Y-%m-%d')"
   ]
  },
  {
   "cell_type": "markdown",
   "id": "3f47f1c7-82f2-43fd-b52a-96449f0f3560",
   "metadata": {},
   "source": [
    "## Understand the Data"
   ]
  },
  {
   "cell_type": "markdown",
   "id": "40c874d0-fc06-4e18-b3c6-571285647f37",
   "metadata": {},
   "source": [
    "### Shape of each DataFrame"
   ]
  },
  {
   "cell_type": "code",
   "execution_count": 5,
   "id": "b51320d7-efc0-48cb-ad25-13ffa5fa5bec",
   "metadata": {},
   "outputs": [
    {
     "name": "stdout",
     "output_type": "stream",
     "text": [
      "train shape -> (67200, 4)\n",
      "transactions shape -> (2266100, 11)\n",
      "test shape -> (5900, 3)\n",
      "Holidays data -> (112, 4)\n"
     ]
    }
   ],
   "source": [
    "print(\"train shape ->\", train_df.shape)\n",
    "print(\"transactions shape ->\", trans_df.shape)\n",
    "print(\"test shape ->\", test_df.shape)\n",
    "print(\"Holidays data ->\", holiday_df.shape)"
   ]
  },
  {
   "cell_type": "code",
   "execution_count": 6,
   "id": "9371c8a1-95af-451c-a15c-0703922b2060",
   "metadata": {},
   "outputs": [
    {
     "name": "stdout",
     "output_type": "stream",
     "text": [
      "Minimum Seat count --> 2.0\n",
      "Maximum Seat count --> 13503.0\n"
     ]
    }
   ],
   "source": [
    "############ Target Range ################\n",
    "print('Minimum Seat count -->', min(train_df['final_seatcount']))\n",
    "print('Maximum Seat count -->', max(train_df['final_seatcount']))"
   ]
  },
  {
   "cell_type": "code",
   "execution_count": 7,
   "id": "c135f22a-a0ce-4b60-a92f-892752f8ec34",
   "metadata": {},
   "outputs": [
    {
     "name": "stdout",
     "output_type": "stream",
     "text": [
      "2023-01-30\n",
      "2025-02-28\n"
     ]
    }
   ],
   "source": [
    "############ Data Range ####################\n",
    "trans_doi = pd.to_datetime(trans_df['doi'], format = '%Y-%m-%d')\n",
    "print(trans_doi.min().date())\n",
    "trans_doj = pd.to_datetime(trans_df['doj'], format = '%Y-%m-%d')\n",
    "print(trans_doj.max().date())"
   ]
  },
  {
   "cell_type": "markdown",
   "id": "6c10ec80-5d78-41b6-af2a-0372f0b6abc4",
   "metadata": {},
   "source": [
    "### .head() "
   ]
  },
  {
   "cell_type": "code",
   "execution_count": 8,
   "id": "f2c61a23-447e-4eb2-b704-5011fdd70c97",
   "metadata": {},
   "outputs": [
    {
     "data": {
      "text/html": [
       "<div>\n",
       "<style scoped>\n",
       "    .dataframe tbody tr th:only-of-type {\n",
       "        vertical-align: middle;\n",
       "    }\n",
       "\n",
       "    .dataframe tbody tr th {\n",
       "        vertical-align: top;\n",
       "    }\n",
       "\n",
       "    .dataframe thead th {\n",
       "        text-align: right;\n",
       "    }\n",
       "</style>\n",
       "<table border=\"1\" class=\"dataframe\">\n",
       "  <thead>\n",
       "    <tr style=\"text-align: right;\">\n",
       "      <th></th>\n",
       "      <th>doj</th>\n",
       "      <th>srcid</th>\n",
       "      <th>destid</th>\n",
       "      <th>final_seatcount</th>\n",
       "    </tr>\n",
       "  </thead>\n",
       "  <tbody>\n",
       "    <tr>\n",
       "      <th>0</th>\n",
       "      <td>2023-03-01</td>\n",
       "      <td>45</td>\n",
       "      <td>46</td>\n",
       "      <td>2838.0</td>\n",
       "    </tr>\n",
       "    <tr>\n",
       "      <th>1</th>\n",
       "      <td>2023-03-01</td>\n",
       "      <td>46</td>\n",
       "      <td>45</td>\n",
       "      <td>2298.0</td>\n",
       "    </tr>\n",
       "    <tr>\n",
       "      <th>2</th>\n",
       "      <td>2023-03-01</td>\n",
       "      <td>45</td>\n",
       "      <td>47</td>\n",
       "      <td>2720.0</td>\n",
       "    </tr>\n",
       "    <tr>\n",
       "      <th>3</th>\n",
       "      <td>2023-03-01</td>\n",
       "      <td>47</td>\n",
       "      <td>45</td>\n",
       "      <td>2580.0</td>\n",
       "    </tr>\n",
       "    <tr>\n",
       "      <th>4</th>\n",
       "      <td>2023-03-01</td>\n",
       "      <td>46</td>\n",
       "      <td>9</td>\n",
       "      <td>4185.0</td>\n",
       "    </tr>\n",
       "  </tbody>\n",
       "</table>\n",
       "</div>"
      ],
      "text/plain": [
       "          doj  srcid  destid  final_seatcount\n",
       "0  2023-03-01     45      46           2838.0\n",
       "1  2023-03-01     46      45           2298.0\n",
       "2  2023-03-01     45      47           2720.0\n",
       "3  2023-03-01     47      45           2580.0\n",
       "4  2023-03-01     46       9           4185.0"
      ]
     },
     "execution_count": 8,
     "metadata": {},
     "output_type": "execute_result"
    }
   ],
   "source": [
    "train_df.head()"
   ]
  },
  {
   "cell_type": "code",
   "execution_count": 9,
   "id": "70008c05-3f7c-40ca-a7c1-11a906a8072f",
   "metadata": {},
   "outputs": [
    {
     "data": {
      "text/html": [
       "<div>\n",
       "<style scoped>\n",
       "    .dataframe tbody tr th:only-of-type {\n",
       "        vertical-align: middle;\n",
       "    }\n",
       "\n",
       "    .dataframe tbody tr th {\n",
       "        vertical-align: top;\n",
       "    }\n",
       "\n",
       "    .dataframe thead th {\n",
       "        text-align: right;\n",
       "    }\n",
       "</style>\n",
       "<table border=\"1\" class=\"dataframe\">\n",
       "  <thead>\n",
       "    <tr style=\"text-align: right;\">\n",
       "      <th></th>\n",
       "      <th>doj</th>\n",
       "      <th>srcid</th>\n",
       "      <th>destid</th>\n",
       "    </tr>\n",
       "  </thead>\n",
       "  <tbody>\n",
       "    <tr>\n",
       "      <th>0</th>\n",
       "      <td>2025-02-11</td>\n",
       "      <td>46</td>\n",
       "      <td>45</td>\n",
       "    </tr>\n",
       "    <tr>\n",
       "      <th>1</th>\n",
       "      <td>2025-01-20</td>\n",
       "      <td>17</td>\n",
       "      <td>23</td>\n",
       "    </tr>\n",
       "    <tr>\n",
       "      <th>2</th>\n",
       "      <td>2025-01-08</td>\n",
       "      <td>2</td>\n",
       "      <td>14</td>\n",
       "    </tr>\n",
       "    <tr>\n",
       "      <th>3</th>\n",
       "      <td>2025-01-08</td>\n",
       "      <td>8</td>\n",
       "      <td>47</td>\n",
       "    </tr>\n",
       "    <tr>\n",
       "      <th>4</th>\n",
       "      <td>2025-01-08</td>\n",
       "      <td>9</td>\n",
       "      <td>46</td>\n",
       "    </tr>\n",
       "  </tbody>\n",
       "</table>\n",
       "</div>"
      ],
      "text/plain": [
       "          doj  srcid  destid\n",
       "0  2025-02-11     46      45\n",
       "1  2025-01-20     17      23\n",
       "2  2025-01-08      2      14\n",
       "3  2025-01-08      8      47\n",
       "4  2025-01-08      9      46"
      ]
     },
     "execution_count": 9,
     "metadata": {},
     "output_type": "execute_result"
    }
   ],
   "source": [
    "test_df.head()"
   ]
  },
  {
   "cell_type": "code",
   "execution_count": 10,
   "id": "5dbfff3f-eec8-465d-a1ff-13d80cce800a",
   "metadata": {},
   "outputs": [
    {
     "data": {
      "text/html": [
       "<div>\n",
       "<style scoped>\n",
       "    .dataframe tbody tr th:only-of-type {\n",
       "        vertical-align: middle;\n",
       "    }\n",
       "\n",
       "    .dataframe tbody tr th {\n",
       "        vertical-align: top;\n",
       "    }\n",
       "\n",
       "    .dataframe thead th {\n",
       "        text-align: right;\n",
       "    }\n",
       "</style>\n",
       "<table border=\"1\" class=\"dataframe\">\n",
       "  <thead>\n",
       "    <tr style=\"text-align: right;\">\n",
       "      <th></th>\n",
       "      <th>doj</th>\n",
       "      <th>doi</th>\n",
       "      <th>srcid</th>\n",
       "      <th>destid</th>\n",
       "      <th>srcid_region</th>\n",
       "      <th>destid_region</th>\n",
       "      <th>srcid_tier</th>\n",
       "      <th>destid_tier</th>\n",
       "      <th>cumsum_seatcount</th>\n",
       "      <th>cumsum_searchcount</th>\n",
       "      <th>dbd</th>\n",
       "    </tr>\n",
       "  </thead>\n",
       "  <tbody>\n",
       "    <tr>\n",
       "      <th>0</th>\n",
       "      <td>2023-03-01</td>\n",
       "      <td>2023-01-30</td>\n",
       "      <td>45</td>\n",
       "      <td>46</td>\n",
       "      <td>Karnataka</td>\n",
       "      <td>Tamil Nadu</td>\n",
       "      <td>Tier 1</td>\n",
       "      <td>Tier 1</td>\n",
       "      <td>8.0</td>\n",
       "      <td>76.0</td>\n",
       "      <td>30</td>\n",
       "    </tr>\n",
       "    <tr>\n",
       "      <th>1</th>\n",
       "      <td>2023-03-01</td>\n",
       "      <td>2023-01-30</td>\n",
       "      <td>46</td>\n",
       "      <td>45</td>\n",
       "      <td>Tamil Nadu</td>\n",
       "      <td>Karnataka</td>\n",
       "      <td>Tier 1</td>\n",
       "      <td>Tier 1</td>\n",
       "      <td>8.0</td>\n",
       "      <td>70.0</td>\n",
       "      <td>30</td>\n",
       "    </tr>\n",
       "    <tr>\n",
       "      <th>2</th>\n",
       "      <td>2023-03-01</td>\n",
       "      <td>2023-01-30</td>\n",
       "      <td>45</td>\n",
       "      <td>47</td>\n",
       "      <td>Karnataka</td>\n",
       "      <td>Andhra Pradesh</td>\n",
       "      <td>Tier 1</td>\n",
       "      <td>Tier 1</td>\n",
       "      <td>4.0</td>\n",
       "      <td>142.0</td>\n",
       "      <td>30</td>\n",
       "    </tr>\n",
       "    <tr>\n",
       "      <th>3</th>\n",
       "      <td>2023-03-01</td>\n",
       "      <td>2023-01-30</td>\n",
       "      <td>47</td>\n",
       "      <td>45</td>\n",
       "      <td>Andhra Pradesh</td>\n",
       "      <td>Karnataka</td>\n",
       "      <td>Tier 1</td>\n",
       "      <td>Tier 1</td>\n",
       "      <td>0.0</td>\n",
       "      <td>68.0</td>\n",
       "      <td>30</td>\n",
       "    </tr>\n",
       "    <tr>\n",
       "      <th>4</th>\n",
       "      <td>2023-03-01</td>\n",
       "      <td>2023-01-30</td>\n",
       "      <td>46</td>\n",
       "      <td>9</td>\n",
       "      <td>Tamil Nadu</td>\n",
       "      <td>Tamil Nadu</td>\n",
       "      <td>Tier 1</td>\n",
       "      <td>Tier2</td>\n",
       "      <td>9.0</td>\n",
       "      <td>162.0</td>\n",
       "      <td>30</td>\n",
       "    </tr>\n",
       "  </tbody>\n",
       "</table>\n",
       "</div>"
      ],
      "text/plain": [
       "          doj         doi  srcid  destid    srcid_region   destid_region  \\\n",
       "0  2023-03-01  2023-01-30     45      46       Karnataka      Tamil Nadu   \n",
       "1  2023-03-01  2023-01-30     46      45      Tamil Nadu       Karnataka   \n",
       "2  2023-03-01  2023-01-30     45      47       Karnataka  Andhra Pradesh   \n",
       "3  2023-03-01  2023-01-30     47      45  Andhra Pradesh       Karnataka   \n",
       "4  2023-03-01  2023-01-30     46       9      Tamil Nadu      Tamil Nadu   \n",
       "\n",
       "  srcid_tier destid_tier  cumsum_seatcount  cumsum_searchcount  dbd  \n",
       "0     Tier 1      Tier 1               8.0                76.0   30  \n",
       "1     Tier 1      Tier 1               8.0                70.0   30  \n",
       "2     Tier 1      Tier 1               4.0               142.0   30  \n",
       "3     Tier 1      Tier 1               0.0                68.0   30  \n",
       "4     Tier 1       Tier2               9.0               162.0   30  "
      ]
     },
     "execution_count": 10,
     "metadata": {},
     "output_type": "execute_result"
    }
   ],
   "source": [
    "trans_df.head()"
   ]
  },
  {
   "cell_type": "code",
   "execution_count": 11,
   "id": "4dd6f169-0420-4d0d-8d7e-9269140d4997",
   "metadata": {},
   "outputs": [
    {
     "data": {
      "text/html": [
       "<div>\n",
       "<style scoped>\n",
       "    .dataframe tbody tr th:only-of-type {\n",
       "        vertical-align: middle;\n",
       "    }\n",
       "\n",
       "    .dataframe tbody tr th {\n",
       "        vertical-align: top;\n",
       "    }\n",
       "\n",
       "    .dataframe thead th {\n",
       "        text-align: right;\n",
       "    }\n",
       "</style>\n",
       "<table border=\"1\" class=\"dataframe\">\n",
       "  <thead>\n",
       "    <tr style=\"text-align: right;\">\n",
       "      <th></th>\n",
       "      <th>holiday_id</th>\n",
       "      <th>name</th>\n",
       "      <th>doh</th>\n",
       "      <th>occasion_id</th>\n",
       "    </tr>\n",
       "  </thead>\n",
       "  <tbody>\n",
       "    <tr>\n",
       "      <th>0</th>\n",
       "      <td>6952</td>\n",
       "      <td>New Year's Day</td>\n",
       "      <td>2023-01-01</td>\n",
       "      <td>7017</td>\n",
       "    </tr>\n",
       "    <tr>\n",
       "      <th>1</th>\n",
       "      <td>6953</td>\n",
       "      <td>Makar Sankranti</td>\n",
       "      <td>2023-01-14</td>\n",
       "      <td>7018</td>\n",
       "    </tr>\n",
       "    <tr>\n",
       "      <th>3</th>\n",
       "      <td>6955</td>\n",
       "      <td>Pongal</td>\n",
       "      <td>2023-01-15</td>\n",
       "      <td>7020</td>\n",
       "    </tr>\n",
       "    <tr>\n",
       "      <th>6</th>\n",
       "      <td>6958</td>\n",
       "      <td>Vasant Panchami</td>\n",
       "      <td>2023-01-26</td>\n",
       "      <td>7023</td>\n",
       "    </tr>\n",
       "    <tr>\n",
       "      <th>7</th>\n",
       "      <td>6959</td>\n",
       "      <td>Guru Ravidas Jayanti</td>\n",
       "      <td>2023-02-05</td>\n",
       "      <td>7024</td>\n",
       "    </tr>\n",
       "  </tbody>\n",
       "</table>\n",
       "</div>"
      ],
      "text/plain": [
       "   holiday_id                  name         doh  occasion_id\n",
       "0        6952        New Year's Day  2023-01-01         7017\n",
       "1        6953       Makar Sankranti  2023-01-14         7018\n",
       "3        6955                Pongal  2023-01-15         7020\n",
       "6        6958       Vasant Panchami  2023-01-26         7023\n",
       "7        6959  Guru Ravidas Jayanti  2023-02-05         7024"
      ]
     },
     "execution_count": 11,
     "metadata": {},
     "output_type": "execute_result"
    }
   ],
   "source": [
    "holiday_df.head()"
   ]
  },
  {
   "cell_type": "markdown",
   "id": "c747ac44-68c2-4dea-af1b-a8a1f53ff413",
   "metadata": {
    "jp-MarkdownHeadingCollapsed": true
   },
   "source": [
    "### .info()"
   ]
  },
  {
   "cell_type": "code",
   "execution_count": 12,
   "id": "367ef18f-1f45-49a0-b4a4-269ec4108c36",
   "metadata": {},
   "outputs": [
    {
     "name": "stdout",
     "output_type": "stream",
     "text": [
      "<class 'pandas.core.frame.DataFrame'>\n",
      "RangeIndex: 67200 entries, 0 to 67199\n",
      "Data columns (total 4 columns):\n",
      " #   Column           Non-Null Count  Dtype  \n",
      "---  ------           --------------  -----  \n",
      " 0   doj              67200 non-null  object \n",
      " 1   srcid            67200 non-null  int64  \n",
      " 2   destid           67200 non-null  int64  \n",
      " 3   final_seatcount  67200 non-null  float64\n",
      "dtypes: float64(1), int64(2), object(1)\n",
      "memory usage: 2.1+ MB\n"
     ]
    }
   ],
   "source": [
    "train_df.info()"
   ]
  },
  {
   "cell_type": "code",
   "execution_count": 13,
   "id": "f99f7439-5e92-46b7-851c-2288af551115",
   "metadata": {},
   "outputs": [
    {
     "name": "stdout",
     "output_type": "stream",
     "text": [
      "<class 'pandas.core.frame.DataFrame'>\n",
      "RangeIndex: 5900 entries, 0 to 5899\n",
      "Data columns (total 3 columns):\n",
      " #   Column  Non-Null Count  Dtype \n",
      "---  ------  --------------  ----- \n",
      " 0   doj     5900 non-null   object\n",
      " 1   srcid   5900 non-null   int64 \n",
      " 2   destid  5900 non-null   int64 \n",
      "dtypes: int64(2), object(1)\n",
      "memory usage: 138.4+ KB\n"
     ]
    }
   ],
   "source": [
    "test_df.info()"
   ]
  },
  {
   "cell_type": "code",
   "execution_count": 14,
   "id": "910636f0-91db-4fc8-86f6-d718236860d3",
   "metadata": {},
   "outputs": [
    {
     "name": "stdout",
     "output_type": "stream",
     "text": [
      "<class 'pandas.core.frame.DataFrame'>\n",
      "RangeIndex: 2266100 entries, 0 to 2266099\n",
      "Data columns (total 11 columns):\n",
      " #   Column              Dtype  \n",
      "---  ------              -----  \n",
      " 0   doj                 object \n",
      " 1   doi                 object \n",
      " 2   srcid               int64  \n",
      " 3   destid              int64  \n",
      " 4   srcid_region        object \n",
      " 5   destid_region       object \n",
      " 6   srcid_tier          object \n",
      " 7   destid_tier         object \n",
      " 8   cumsum_seatcount    float64\n",
      " 9   cumsum_searchcount  float64\n",
      " 10  dbd                 int64  \n",
      "dtypes: float64(2), int64(3), object(6)\n",
      "memory usage: 190.2+ MB\n"
     ]
    }
   ],
   "source": [
    "trans_df.info()"
   ]
  },
  {
   "cell_type": "code",
   "execution_count": 15,
   "id": "fd4d9714-1112-40ad-a6e8-6d1cf050e5ae",
   "metadata": {},
   "outputs": [
    {
     "name": "stdout",
     "output_type": "stream",
     "text": [
      "<class 'pandas.core.frame.DataFrame'>\n",
      "Index: 112 entries, 0 to 229\n",
      "Data columns (total 4 columns):\n",
      " #   Column       Non-Null Count  Dtype \n",
      "---  ------       --------------  ----- \n",
      " 0   holiday_id   112 non-null    int64 \n",
      " 1   name         112 non-null    object\n",
      " 2   doh          112 non-null    object\n",
      " 3   occasion_id  112 non-null    int64 \n",
      "dtypes: int64(2), object(2)\n",
      "memory usage: 4.4+ KB\n"
     ]
    }
   ],
   "source": [
    "holiday_df.info()"
   ]
  },
  {
   "cell_type": "markdown",
   "id": "20570523-5882-4c9c-8177-630cb753cd8d",
   "metadata": {
    "jp-MarkdownHeadingCollapsed": true
   },
   "source": [
    "### .describe()"
   ]
  },
  {
   "cell_type": "code",
   "execution_count": 16,
   "id": "aded560f-4216-4d90-b319-114c6a373d01",
   "metadata": {},
   "outputs": [
    {
     "data": {
      "text/html": [
       "<div>\n",
       "<style scoped>\n",
       "    .dataframe tbody tr th:only-of-type {\n",
       "        vertical-align: middle;\n",
       "    }\n",
       "\n",
       "    .dataframe tbody tr th {\n",
       "        vertical-align: top;\n",
       "    }\n",
       "\n",
       "    .dataframe thead th {\n",
       "        text-align: right;\n",
       "    }\n",
       "</style>\n",
       "<table border=\"1\" class=\"dataframe\">\n",
       "  <thead>\n",
       "    <tr style=\"text-align: right;\">\n",
       "      <th></th>\n",
       "      <th>srcid</th>\n",
       "      <th>destid</th>\n",
       "      <th>final_seatcount</th>\n",
       "    </tr>\n",
       "  </thead>\n",
       "  <tbody>\n",
       "    <tr>\n",
       "      <th>count</th>\n",
       "      <td>67200.000000</td>\n",
       "      <td>67200.000000</td>\n",
       "      <td>67200.000000</td>\n",
       "    </tr>\n",
       "    <tr>\n",
       "      <th>mean</th>\n",
       "      <td>29.550000</td>\n",
       "      <td>29.750000</td>\n",
       "      <td>2001.729464</td>\n",
       "    </tr>\n",
       "    <tr>\n",
       "      <th>std</th>\n",
       "      <td>16.670082</td>\n",
       "      <td>15.938986</td>\n",
       "      <td>1194.711140</td>\n",
       "    </tr>\n",
       "    <tr>\n",
       "      <th>min</th>\n",
       "      <td>1.000000</td>\n",
       "      <td>1.000000</td>\n",
       "      <td>2.000000</td>\n",
       "    </tr>\n",
       "    <tr>\n",
       "      <th>25%</th>\n",
       "      <td>14.750000</td>\n",
       "      <td>15.750000</td>\n",
       "      <td>1252.000000</td>\n",
       "    </tr>\n",
       "    <tr>\n",
       "      <th>50%</th>\n",
       "      <td>36.000000</td>\n",
       "      <td>34.500000</td>\n",
       "      <td>1685.000000</td>\n",
       "    </tr>\n",
       "    <tr>\n",
       "      <th>75%</th>\n",
       "      <td>45.000000</td>\n",
       "      <td>45.000000</td>\n",
       "      <td>2408.000000</td>\n",
       "    </tr>\n",
       "    <tr>\n",
       "      <th>max</th>\n",
       "      <td>48.000000</td>\n",
       "      <td>48.000000</td>\n",
       "      <td>13503.000000</td>\n",
       "    </tr>\n",
       "  </tbody>\n",
       "</table>\n",
       "</div>"
      ],
      "text/plain": [
       "              srcid        destid  final_seatcount\n",
       "count  67200.000000  67200.000000     67200.000000\n",
       "mean      29.550000     29.750000      2001.729464\n",
       "std       16.670082     15.938986      1194.711140\n",
       "min        1.000000      1.000000         2.000000\n",
       "25%       14.750000     15.750000      1252.000000\n",
       "50%       36.000000     34.500000      1685.000000\n",
       "75%       45.000000     45.000000      2408.000000\n",
       "max       48.000000     48.000000     13503.000000"
      ]
     },
     "execution_count": 16,
     "metadata": {},
     "output_type": "execute_result"
    }
   ],
   "source": [
    "train_df.describe()"
   ]
  },
  {
   "cell_type": "code",
   "execution_count": 17,
   "id": "bf1dff0d-3ac5-4940-8527-ff974f97af7d",
   "metadata": {},
   "outputs": [
    {
     "data": {
      "text/html": [
       "<div>\n",
       "<style scoped>\n",
       "    .dataframe tbody tr th:only-of-type {\n",
       "        vertical-align: middle;\n",
       "    }\n",
       "\n",
       "    .dataframe tbody tr th {\n",
       "        vertical-align: top;\n",
       "    }\n",
       "\n",
       "    .dataframe thead th {\n",
       "        text-align: right;\n",
       "    }\n",
       "</style>\n",
       "<table border=\"1\" class=\"dataframe\">\n",
       "  <thead>\n",
       "    <tr style=\"text-align: right;\">\n",
       "      <th></th>\n",
       "      <th>srcid</th>\n",
       "      <th>destid</th>\n",
       "    </tr>\n",
       "  </thead>\n",
       "  <tbody>\n",
       "    <tr>\n",
       "      <th>count</th>\n",
       "      <td>5900.000000</td>\n",
       "      <td>5900.000000</td>\n",
       "    </tr>\n",
       "    <tr>\n",
       "      <th>mean</th>\n",
       "      <td>29.550000</td>\n",
       "      <td>29.750000</td>\n",
       "    </tr>\n",
       "    <tr>\n",
       "      <th>std</th>\n",
       "      <td>16.671371</td>\n",
       "      <td>15.940219</td>\n",
       "    </tr>\n",
       "    <tr>\n",
       "      <th>min</th>\n",
       "      <td>1.000000</td>\n",
       "      <td>1.000000</td>\n",
       "    </tr>\n",
       "    <tr>\n",
       "      <th>25%</th>\n",
       "      <td>14.750000</td>\n",
       "      <td>15.750000</td>\n",
       "    </tr>\n",
       "    <tr>\n",
       "      <th>50%</th>\n",
       "      <td>36.000000</td>\n",
       "      <td>34.500000</td>\n",
       "    </tr>\n",
       "    <tr>\n",
       "      <th>75%</th>\n",
       "      <td>45.000000</td>\n",
       "      <td>45.000000</td>\n",
       "    </tr>\n",
       "    <tr>\n",
       "      <th>max</th>\n",
       "      <td>48.000000</td>\n",
       "      <td>48.000000</td>\n",
       "    </tr>\n",
       "  </tbody>\n",
       "</table>\n",
       "</div>"
      ],
      "text/plain": [
       "             srcid       destid\n",
       "count  5900.000000  5900.000000\n",
       "mean     29.550000    29.750000\n",
       "std      16.671371    15.940219\n",
       "min       1.000000     1.000000\n",
       "25%      14.750000    15.750000\n",
       "50%      36.000000    34.500000\n",
       "75%      45.000000    45.000000\n",
       "max      48.000000    48.000000"
      ]
     },
     "execution_count": 17,
     "metadata": {},
     "output_type": "execute_result"
    }
   ],
   "source": [
    "test_df.describe()"
   ]
  },
  {
   "cell_type": "code",
   "execution_count": 18,
   "id": "a17d66e5-87e4-4622-8a9e-7589f85a29f1",
   "metadata": {},
   "outputs": [
    {
     "data": {
      "text/html": [
       "<div>\n",
       "<style scoped>\n",
       "    .dataframe tbody tr th:only-of-type {\n",
       "        vertical-align: middle;\n",
       "    }\n",
       "\n",
       "    .dataframe tbody tr th {\n",
       "        vertical-align: top;\n",
       "    }\n",
       "\n",
       "    .dataframe thead th {\n",
       "        text-align: right;\n",
       "    }\n",
       "</style>\n",
       "<table border=\"1\" class=\"dataframe\">\n",
       "  <thead>\n",
       "    <tr style=\"text-align: right;\">\n",
       "      <th></th>\n",
       "      <th>srcid</th>\n",
       "      <th>destid</th>\n",
       "      <th>cumsum_seatcount</th>\n",
       "      <th>cumsum_searchcount</th>\n",
       "      <th>dbd</th>\n",
       "    </tr>\n",
       "  </thead>\n",
       "  <tbody>\n",
       "    <tr>\n",
       "      <th>count</th>\n",
       "      <td>2266100.00</td>\n",
       "      <td>2266100.00</td>\n",
       "      <td>2266100.00</td>\n",
       "      <td>2266100.00</td>\n",
       "      <td>2266100.00</td>\n",
       "    </tr>\n",
       "    <tr>\n",
       "      <th>mean</th>\n",
       "      <td>29.55</td>\n",
       "      <td>29.75</td>\n",
       "      <td>173.84</td>\n",
       "      <td>4742.16</td>\n",
       "      <td>15.00</td>\n",
       "    </tr>\n",
       "    <tr>\n",
       "      <th>std</th>\n",
       "      <td>16.67</td>\n",
       "      <td>15.94</td>\n",
       "      <td>485.89</td>\n",
       "      <td>16735.50</td>\n",
       "      <td>8.94</td>\n",
       "    </tr>\n",
       "    <tr>\n",
       "      <th>min</th>\n",
       "      <td>1.00</td>\n",
       "      <td>1.00</td>\n",
       "      <td>0.00</td>\n",
       "      <td>0.00</td>\n",
       "      <td>0.00</td>\n",
       "    </tr>\n",
       "    <tr>\n",
       "      <th>25%</th>\n",
       "      <td>14.75</td>\n",
       "      <td>15.75</td>\n",
       "      <td>0.00</td>\n",
       "      <td>208.00</td>\n",
       "      <td>7.00</td>\n",
       "    </tr>\n",
       "    <tr>\n",
       "      <th>50%</th>\n",
       "      <td>36.00</td>\n",
       "      <td>34.50</td>\n",
       "      <td>16.00</td>\n",
       "      <td>764.00</td>\n",
       "      <td>15.00</td>\n",
       "    </tr>\n",
       "    <tr>\n",
       "      <th>75%</th>\n",
       "      <td>45.00</td>\n",
       "      <td>45.00</td>\n",
       "      <td>100.00</td>\n",
       "      <td>2896.00</td>\n",
       "      <td>23.00</td>\n",
       "    </tr>\n",
       "    <tr>\n",
       "      <th>max</th>\n",
       "      <td>48.00</td>\n",
       "      <td>48.00</td>\n",
       "      <td>13503.00</td>\n",
       "      <td>1677297.00</td>\n",
       "      <td>30.00</td>\n",
       "    </tr>\n",
       "  </tbody>\n",
       "</table>\n",
       "</div>"
      ],
      "text/plain": [
       "            srcid      destid  cumsum_seatcount  cumsum_searchcount  \\\n",
       "count  2266100.00  2266100.00        2266100.00          2266100.00   \n",
       "mean        29.55       29.75            173.84             4742.16   \n",
       "std         16.67       15.94            485.89            16735.50   \n",
       "min          1.00        1.00              0.00                0.00   \n",
       "25%         14.75       15.75              0.00              208.00   \n",
       "50%         36.00       34.50             16.00              764.00   \n",
       "75%         45.00       45.00            100.00             2896.00   \n",
       "max         48.00       48.00          13503.00          1677297.00   \n",
       "\n",
       "              dbd  \n",
       "count  2266100.00  \n",
       "mean        15.00  \n",
       "std          8.94  \n",
       "min          0.00  \n",
       "25%          7.00  \n",
       "50%         15.00  \n",
       "75%         23.00  \n",
       "max         30.00  "
      ]
     },
     "execution_count": 18,
     "metadata": {},
     "output_type": "execute_result"
    }
   ],
   "source": [
    "round(trans_df.describe(), 2)"
   ]
  },
  {
   "cell_type": "code",
   "execution_count": 19,
   "id": "bf737971-677b-428c-a78f-12a1a0d50e70",
   "metadata": {},
   "outputs": [
    {
     "data": {
      "text/html": [
       "<div>\n",
       "<style scoped>\n",
       "    .dataframe tbody tr th:only-of-type {\n",
       "        vertical-align: middle;\n",
       "    }\n",
       "\n",
       "    .dataframe tbody tr th {\n",
       "        vertical-align: top;\n",
       "    }\n",
       "\n",
       "    .dataframe thead th {\n",
       "        text-align: right;\n",
       "    }\n",
       "</style>\n",
       "<table border=\"1\" class=\"dataframe\">\n",
       "  <thead>\n",
       "    <tr style=\"text-align: right;\">\n",
       "      <th></th>\n",
       "      <th>holiday_id</th>\n",
       "      <th>occasion_id</th>\n",
       "    </tr>\n",
       "  </thead>\n",
       "  <tbody>\n",
       "    <tr>\n",
       "      <th>count</th>\n",
       "      <td>112.000000</td>\n",
       "      <td>112.000000</td>\n",
       "    </tr>\n",
       "    <tr>\n",
       "      <th>mean</th>\n",
       "      <td>9523.535714</td>\n",
       "      <td>7065.098214</td>\n",
       "    </tr>\n",
       "    <tr>\n",
       "      <th>std</th>\n",
       "      <td>3353.871424</td>\n",
       "      <td>97.883177</td>\n",
       "    </tr>\n",
       "    <tr>\n",
       "      <th>min</th>\n",
       "      <td>6952.000000</td>\n",
       "      <td>7017.000000</td>\n",
       "    </tr>\n",
       "    <tr>\n",
       "      <th>25%</th>\n",
       "      <td>7011.750000</td>\n",
       "      <td>7030.000000</td>\n",
       "    </tr>\n",
       "    <tr>\n",
       "      <th>50%</th>\n",
       "      <td>7271.500000</td>\n",
       "      <td>7051.000000</td>\n",
       "    </tr>\n",
       "    <tr>\n",
       "      <th>75%</th>\n",
       "      <td>14160.500000</td>\n",
       "      <td>7075.500000</td>\n",
       "    </tr>\n",
       "    <tr>\n",
       "      <th>max</th>\n",
       "      <td>14219.000000</td>\n",
       "      <td>7767.000000</td>\n",
       "    </tr>\n",
       "  </tbody>\n",
       "</table>\n",
       "</div>"
      ],
      "text/plain": [
       "         holiday_id  occasion_id\n",
       "count    112.000000   112.000000\n",
       "mean    9523.535714  7065.098214\n",
       "std     3353.871424    97.883177\n",
       "min     6952.000000  7017.000000\n",
       "25%     7011.750000  7030.000000\n",
       "50%     7271.500000  7051.000000\n",
       "75%    14160.500000  7075.500000\n",
       "max    14219.000000  7767.000000"
      ]
     },
     "execution_count": 19,
     "metadata": {},
     "output_type": "execute_result"
    }
   ],
   "source": [
    "holiday_df.describe()"
   ]
  },
  {
   "cell_type": "markdown",
   "id": "90388f28-622a-4a8a-a01c-5980ee7c2b23",
   "metadata": {},
   "source": [
    "## transform dtype of date columns"
   ]
  },
  {
   "cell_type": "code",
   "execution_count": 21,
   "id": "eaeaa62e-0a21-4df9-8f7d-74a5f66c4748",
   "metadata": {},
   "outputs": [],
   "source": [
    "# object into datetime\n",
    "dfs = [train_df, test_df, trans_df, holiday_df]\n",
    "date_cols = ['doj', 'doi', 'doh']\n",
    "\n",
    "for df in dfs:\n",
    "    for col in date_cols:\n",
    "        if col in df.columns and df[col].dtype != 'datetime64[ns]':\n",
    "            df[col] = pd.to_datetime(df[col])"
   ]
  },
  {
   "cell_type": "markdown",
   "id": "3f6fb31f-0349-47c0-9fb1-74ffa32db56c",
   "metadata": {},
   "source": [
    "### Check for date columns dtype"
   ]
  },
  {
   "cell_type": "code",
   "execution_count": 25,
   "id": "acb0d122-7126-4e60-80b5-31bbb4a1a9b7",
   "metadata": {},
   "outputs": [
    {
     "name": "stdout",
     "output_type": "stream",
     "text": [
      "train_df -> datetime64[ns]\n",
      "test_df -> datetime64[ns]\n",
      "trans_df - doj -> datetime64[ns]\n",
      "trans_df - doi -> datetime64[ns]\n",
      "holiday_df -> datetime64[ns]\n"
     ]
    }
   ],
   "source": [
    "print('train_df ->',train_df['doj'].dtype)\n",
    "print('test_df ->',test_df['doj'].dtype)\n",
    "print('trans_df - doj ->',trans_df['doj'].dtype)\n",
    "print('trans_df - doi ->',trans_df['doj'].dtype)\n",
    "print('holiday_df ->',train_df['doj'].dtype)"
   ]
  },
  {
   "cell_type": "code",
   "execution_count": null,
   "id": "f78ec510-2256-4a66-937b-0836f6de5598",
   "metadata": {},
   "outputs": [],
   "source": []
  },
  {
   "cell_type": "markdown",
   "id": "b8f9c531-b9b2-4631-ada2-b98814a5349f",
   "metadata": {},
   "source": [
    "### 2.2 Merge data from transactions file to test and train files"
   ]
  },
  {
   "cell_type": "code",
   "execution_count": null,
   "id": "3838f6e4-6b33-424f-bc4a-233fb2c1bd67",
   "metadata": {},
   "outputs": [],
   "source": [
    "transaction_15 = trans_df[trans_df['dbd'] == 15]\n",
    "\n",
    "features = transaction_15[['doj', 'srcid', 'destid', 'srcid_region', 'destid_region',\n",
    "       'srcid_tier', 'destid_tier', 'cumsum_seatcount', 'cumsum_searchcount']]\n",
    "\n",
    "train_df = train_df.merge(features, on = ['doj', 'srcid', 'destid'], how = 'left')\n",
    "test_df = test_df.merge(features, on = ['doj', 'srcid', 'destid'], how = 'left')"
   ]
  },
  {
   "cell_type": "code",
   "execution_count": null,
   "id": "5e27be9b-88d6-4cf8-9e7b-3d326704e8e3",
   "metadata": {},
   "outputs": [],
   "source": [
    "train_df['srcid_region'].unique()"
   ]
  },
  {
   "cell_type": "code",
   "execution_count": null,
   "id": "76d49fc8-a86e-430d-9445-c169a10347e4",
   "metadata": {},
   "outputs": [],
   "source": [
    "train_df['srcid_tier'].unique()"
   ]
  },
  {
   "cell_type": "code",
   "execution_count": null,
   "id": "3a091974-c914-4e9a-bdbd-d6c8e486c211",
   "metadata": {},
   "outputs": [],
   "source": [
    "dfs = [train_df, test_df]\n",
    "\n",
    "for df in dfs:\n",
    "    \n",
    "    df['doj'] = pd.to_datetime(df['doj'], format = '%Y-%m-%d')\n",
    "\n",
    "    # Extracting new columns with date columns\n",
    "    df['doj' + '_year'] = df['doj'].dt.year\n",
    "    df['doj' + '_month'] = df['doj'].dt.month\n",
    "    df['doj' + '_day'] = df['doj'].dt.day\n",
    "    df['doj' + '_dayofweek'] = df['doj'].dt.dayofweek\n",
    "    df['doj' + '_isweekend'] = df['doj'].dt.dayofweek.isin([5,6]).astype(int)\n",
    "\n",
    "    # Deleting the datetime datatype columns\n",
    "    df.drop(['doj'], axis = 1, inplace = True)"
   ]
  },
  {
   "cell_type": "markdown",
   "id": "28fd9032-5e1e-4056-9689-9c857e068bdd",
   "metadata": {
    "jp-MarkdownHeadingCollapsed": true
   },
   "source": [
    "##### info() of dataframes"
   ]
  },
  {
   "cell_type": "code",
   "execution_count": null,
   "id": "e7bd7fc0-b1ce-4885-bf6f-63d8e5439d34",
   "metadata": {},
   "outputs": [],
   "source": [
    "for i in dfs:\n",
    "    print(i.info())"
   ]
  },
  {
   "cell_type": "markdown",
   "id": "dc790d5b-06ff-4865-a0b6-ab2d1a2867d6",
   "metadata": {
    "jp-MarkdownHeadingCollapsed": true
   },
   "source": [
    "##### Check for Null values"
   ]
  },
  {
   "cell_type": "code",
   "execution_count": null,
   "id": "ae0d9339-af55-48ed-93e7-900481a8af6e",
   "metadata": {},
   "outputs": [],
   "source": [
    "for i in dfs:   \n",
    "    print(i.isna().sum(),'\\n')"
   ]
  },
  {
   "cell_type": "markdown",
   "id": "f38661a6-3c6b-4fb9-8ac7-b4b7c94d5014",
   "metadata": {},
   "source": [
    "###### Insight\n",
    "- There are no Nulll values"
   ]
  },
  {
   "cell_type": "markdown",
   "id": "7ec01b37-7313-4bc5-8203-4aa1c6491cb2",
   "metadata": {},
   "source": [
    "##### Check for duplicates"
   ]
  },
  {
   "cell_type": "code",
   "execution_count": null,
   "id": "eb14ff78-b970-47d7-9d14-7fe99367e9ea",
   "metadata": {},
   "outputs": [],
   "source": [
    "for i in dfs:\n",
    "    print(i.duplicated().sum())"
   ]
  },
  {
   "cell_type": "markdown",
   "id": "e68eab39-5d0e-4cc8-b0c3-5c12e508f30b",
   "metadata": {},
   "source": [
    "###### Insights \n",
    "- No Duplicates"
   ]
  },
  {
   "cell_type": "markdown",
   "id": "5ea1bc52-b92a-489c-a2d7-734bf1fda217",
   "metadata": {},
   "source": [
    "#### Coverting objects into Date"
   ]
  },
  {
   "cell_type": "code",
   "execution_count": null,
   "id": "6a591c62-a258-4146-9d78-1ee34d02e5ce",
   "metadata": {},
   "outputs": [],
   "source": [
    "date_item_list = ['doj', 'doi']\n",
    "\n",
    "for df in dfs:\n",
    "    for col in date_item_list:\n",
    "        if col in df.columns and df[col].dtype != 'datetime64[ns]':\n",
    "            df[col] = pd.to_datetime(df[col], format = '%Y-%m-%d')\n",
    "\n",
    "            # Extracting new columns with date columns\n",
    "            df[col + '_year'] = df[col].dt.year\n",
    "            df[col + '_month'] = df[col].dt.month\n",
    "            df[col + '_day'] = df[col].dt.day\n",
    "            df[col + '_dayofweek'] = df[col].dt.dayofweek\n",
    "            df[col + '_isweekend'] = df[col].dt.dayofweek.isin([5,6]).astype(int)\n",
    "\n",
    "            # Deleting the datetime datatype columns\n",
    "            df.drop([col], axis = 1, inplace = True)"
   ]
  },
  {
   "cell_type": "markdown",
   "id": "a07f3f04-a1e2-432f-84d5-e32a020e2693",
   "metadata": {},
   "source": [
    "## Preprocessing"
   ]
  },
  {
   "cell_type": "code",
   "execution_count": null,
   "id": "3e3131a6-a9d0-4dee-bef6-1d580e41a0cd",
   "metadata": {},
   "outputs": [],
   "source": [
    "categorical_columns = [col for col in train_df.columns if train_df[col].dtype == 'O']\n",
    "# ['srcid_region', 'destid_region', 'srcid_tier', 'destid_tier']"
   ]
  },
  {
   "cell_type": "code",
   "execution_count": null,
   "id": "77b6f8d7-3e35-4e20-adcf-3ce57bbe4330",
   "metadata": {},
   "outputs": [],
   "source": [
    "encoder = OrdinalEncoder(dtype = int)\n",
    "\n",
    "train_df[categorical_columns] = encoder.fit_transform(train_df[categorical_columns])\n",
    "test_df[categorical_columns] = encoder.fit_transform(test_df[categorical_columns])"
   ]
  },
  {
   "cell_type": "markdown",
   "id": "2d98f93d-e637-4d35-8b69-125cd1cc2514",
   "metadata": {},
   "source": [
    "## Data Preparation"
   ]
  },
  {
   "cell_type": "code",
   "execution_count": null,
   "id": "618a443d-c715-4bb8-b384-2ca13fed4a77",
   "metadata": {},
   "outputs": [],
   "source": [
    "X = train_df.drop(['final_seatcount'], axis = 1)\n",
    "y = train_df['final_seatcount']\n",
    "\n",
    "X_train, X_test, y_train, y_test = train_test_split(X, y, test_size = 0.2, random_state = 42)"
   ]
  },
  {
   "cell_type": "code",
   "execution_count": null,
   "id": "175666cf-94bd-41f1-81b8-a0397d3a7bc4",
   "metadata": {},
   "outputs": [],
   "source": [
    "print(train_df.columns)\n",
    "print(test_df.columns)"
   ]
  },
  {
   "cell_type": "markdown",
   "id": "82239593-f0cb-4133-a5a9-201e6e5d615d",
   "metadata": {},
   "source": [
    "### model testing"
   ]
  },
  {
   "cell_type": "code",
   "execution_count": null,
   "id": "87d4b1e4-c6cd-4ad0-a38d-05f4366ffcfc",
   "metadata": {},
   "outputs": [],
   "source": [
    "model = XGBRegressor()\n",
    "\n",
    "model.fit(X_train, y_train)\n",
    "\n",
    "y_pred = model.predict(X_test)\n",
    "\n",
    "rmse = np.sqrt(mean_squared_error(y_test, y_pred)) # 504.88480654785326\n",
    "rmse"
   ]
  }
 ],
 "metadata": {
  "kernelspec": {
   "display_name": "Python 3 (ipykernel)",
   "language": "python",
   "name": "python3"
  },
  "language_info": {
   "codemirror_mode": {
    "name": "ipython",
    "version": 3
   },
   "file_extension": ".py",
   "mimetype": "text/x-python",
   "name": "python",
   "nbconvert_exporter": "python",
   "pygments_lexer": "ipython3",
   "version": "3.11.9"
  }
 },
 "nbformat": 4,
 "nbformat_minor": 5
}
