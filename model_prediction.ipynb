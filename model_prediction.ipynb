{
 "cells": [
  {
   "cell_type": "markdown",
   "id": "402c7698-697b-4202-9281-5a12fc075105",
   "metadata": {},
   "source": [
    "# Setup Libraries and Data"
   ]
  },
  {
   "cell_type": "markdown",
   "id": "7eaf95f1-eba4-40b9-9484-ade3774c37b5",
   "metadata": {},
   "source": [
    "## Import the Libraries"
   ]
  },
  {
   "cell_type": "code",
   "execution_count": 26,
   "id": "b1cad0a3-fd3f-4e94-a04d-cca20eaaafbe",
   "metadata": {},
   "outputs": [],
   "source": [
    "import numpy  as np\n",
    "import pandas as pd\n",
    "import matplotlib.pyplot as plt\n",
    "import seaborn as sns\n",
    "\n",
    "from sklearn.preprocessing import OrdinalEncoder\n",
    "\n",
    "from sklearn.model_selection import train_test_split\n",
    "from sklearn.model_selection import StratifiedKFold\n",
    "\n",
    "from sklearn.metrics import mean_squared_error\n",
    "\n",
    "from sklearn.ensemble import RandomForestRegressor # 472\n",
    "from xgboost import XGBRegressor #450\n",
    "from lightgbm import LGBMRegressor #472\n",
    "\n",
    "import optuna\n",
    "import warnings\n",
    "warnings.filterwarnings('ignore')"
   ]
  },
  {
   "cell_type": "markdown",
   "id": "88c0a73c-d25c-4531-9188-f79681eccb19",
   "metadata": {},
   "source": [
    "## Import the Data"
   ]
  },
  {
   "cell_type": "code",
   "execution_count": 2,
   "id": "81d1b358-e032-4d1c-9346-6faec0a12d4c",
   "metadata": {},
   "outputs": [],
   "source": [
    "train_data = pd.read_csv(\"train.csv\")\n",
    "test_data = pd.read_csv(\"test.csv\")\n",
    "transactions_data = pd.read_csv(\"transactions.csv\")\n",
    "# ----------------------------------------------\n",
    "train_df = train_data.copy()\n",
    "test_df = test_data.copy()\n",
    "test_df = test_df.drop('route_key', axis = 1)\n",
    "trans_df = transactions_data.copy()\n",
    "#-------------------------------------------------\n",
    "# Loads Holiays file\n",
    "holiday_df = pd.read_csv('indian_holidays_2023_2025.csv')\n",
    "holiday_df = holiday_df[holiday_df['type'] == 'Restricted Holiday']\n",
    "holiday_df = holiday_df.drop(['type', 'description','country', 'created_at', 'updated_at'], axis = 1)\n",
    "holiday_df = holiday_df.rename({'date': 'doh'}, axis = 1)"
   ]
  },
  {
   "cell_type": "markdown",
   "id": "e7443ab3-8f1f-4905-85f8-22c1f1faaa5b",
   "metadata": {},
   "source": [
    "# Feature Engineering and Transforming"
   ]
  },
  {
   "cell_type": "markdown",
   "id": "a4e5eb10-55ac-4c88-8a96-784b19befa42",
   "metadata": {},
   "source": [
    "## Converting Date columns dtype"
   ]
  },
  {
   "cell_type": "code",
   "execution_count": 3,
   "id": "06093e09-d6b6-4b3c-81b0-c65fe85fc64c",
   "metadata": {},
   "outputs": [],
   "source": [
    "# object into datetime\n",
    "dfs = [train_df, test_df, trans_df, holiday_df]\n",
    "date_cols = ['doj', 'doi', 'doh']\n",
    "\n",
    "for df in dfs:\n",
    "    for col in date_cols:\n",
    "        if col in df.columns and df[col].dtype != 'datetime64[ns]':\n",
    "            df[col] = pd.to_datetime(df[col])"
   ]
  },
  {
   "cell_type": "markdown",
   "id": "679b2a72-48ab-4592-aaf4-7adf4b876f80",
   "metadata": {},
   "source": [
    "## Adding new features to trans_df"
   ]
  },
  {
   "cell_type": "code",
   "execution_count": 4,
   "id": "cb1d269e-ee43-42f0-a5d3-d5bcebfd480f",
   "metadata": {},
   "outputs": [],
   "source": [
    "# Set of holiday dates\n",
    "holiday_dates = set(holiday_df['doh'])\n",
    "\n",
    "# 1. Is DOJ a holiday?\n",
    "trans_df['is_doj_holiday'] = trans_df['doj'].isin(holiday_dates).astype(int)\n",
    "\n",
    "# 2. Is DOI a holiday?\n",
    "trans_df['is_doi_holiday'] = trans_df['doi'].isin(holiday_dates).astype(int)\n",
    "\n",
    "# 3. Number of holidays between DOI and DOJ\n",
    "trans_df['num_holidays_between'] = trans_df.apply(\n",
    "    lambda row: sum((holiday_df['doh'] >= row['doi']) & (holiday_df['doh'] <= row['doj'])),\n",
    "    axis=1\n",
    ")\n",
    "\n",
    "# 4. Days between DOI and DOJ\n",
    "# dbd = >trans_df['days_to_travel'] = (trans_df['doj'] - trans_df['doi']).dt.days\n",
    "\n",
    "# 5. Day of week\n",
    "trans_df['doj_dayofweek'] = trans_df['doj'].dt.dayofweek  # Monday=0\n",
    "trans_df['doi_dayofweek'] = trans_df['doi'].dt.dayofweek\n",
    "\n",
    "# 6. Is DOJ on weekend?\n",
    "trans_df['is_doj_weekend'] = trans_df['doj_dayofweek'].isin([5, 6]).astype(int)  # Saturday or Sunday\n",
    "\n",
    "# 7. Is DOJ close to holiday (within ±1 day)?\n",
    "trans_df['doj_near_holiday'] = trans_df['doj'].apply(\n",
    "    lambda d: any((abs((d - h).days) <= 1) for h in holiday_dates)\n",
    ").astype(int)"
   ]
  },
  {
   "cell_type": "markdown",
   "id": "0ecc41ee-9499-46bb-a9a2-3d17bb224090",
   "metadata": {},
   "source": [
    "# Preprocessing"
   ]
  },
  {
   "cell_type": "markdown",
   "id": "307c73cb-9f49-40a2-a82d-3fa2cb34f67f",
   "metadata": {},
   "source": [
    "## transforming categorical columns"
   ]
  },
  {
   "cell_type": "code",
   "execution_count": 5,
   "id": "59f2657e-2cfd-4092-b3ff-b0c6c10d1925",
   "metadata": {},
   "outputs": [],
   "source": [
    "# Using OrdinalEncoder\n",
    "cat_columns_trans_df = [col for col in trans_df.columns if trans_df[col].dtype == 'O']\n",
    "# ['srcid_region', 'destid_region', 'srcid_tier', 'destid_tier']\n",
    "\n",
    "encoder = OrdinalEncoder()\n",
    "\n",
    "trans_df[cat_columns_trans_df] = encoder.fit_transform(trans_df[cat_columns_trans_df])"
   ]
  },
  {
   "cell_type": "code",
   "execution_count": 7,
   "id": "56eedd9e-387a-4cb7-8a9b-453d97ea2510",
   "metadata": {},
   "outputs": [
    {
     "name": "stdout",
     "output_type": "stream",
     "text": [
      "<class 'pandas.core.frame.DataFrame'>\n",
      "RangeIndex: 2266100 entries, 0 to 2266099\n",
      "Data columns (total 18 columns):\n",
      " #   Column                Dtype         \n",
      "---  ------                -----         \n",
      " 0   doj                   datetime64[ns]\n",
      " 1   doi                   datetime64[ns]\n",
      " 2   srcid                 int64         \n",
      " 3   destid                int64         \n",
      " 4   srcid_region          float64       \n",
      " 5   destid_region         float64       \n",
      " 6   srcid_tier            float64       \n",
      " 7   destid_tier           float64       \n",
      " 8   cumsum_seatcount      float64       \n",
      " 9   cumsum_searchcount    float64       \n",
      " 10  dbd                   int64         \n",
      " 11  is_doj_holiday        int64         \n",
      " 12  is_doi_holiday        int64         \n",
      " 13  num_holidays_between  int64         \n",
      " 14  doj_dayofweek         int32         \n",
      " 15  doi_dayofweek         int32         \n",
      " 16  is_doj_weekend        int64         \n",
      " 17  doj_near_holiday      int64         \n",
      "dtypes: datetime64[ns](2), float64(6), int32(2), int64(8)\n",
      "memory usage: 293.9 MB\n"
     ]
    }
   ],
   "source": [
    "trans_df.info()"
   ]
  },
  {
   "cell_type": "markdown",
   "id": "c7f76b2b-264f-46f8-afc1-c0d6e7a04498",
   "metadata": {},
   "source": [
    "## Merge trans_df to train_df & test_df"
   ]
  },
  {
   "cell_type": "code",
   "execution_count": 8,
   "id": "a2ce7c00-3ea6-4ed3-b3cf-e1e2c21d6188",
   "metadata": {},
   "outputs": [],
   "source": [
    "transaction_15 = trans_df[trans_df['dbd'] == 15]\n",
    "\n",
    "features = transaction_15[['doj', 'srcid', 'destid', 'srcid_region', 'destid_region',\n",
    "       'srcid_tier', 'destid_tier', 'cumsum_seatcount', 'cumsum_searchcount',\n",
    "       'is_doj_holiday', 'is_doi_holiday', 'num_holidays_between',\n",
    "       'doj_dayofweek', 'doi_dayofweek', 'is_doj_weekend', 'doj_near_holiday']]\n",
    "\n",
    "train_df = train_df.merge(features, on = ['doj', 'srcid', 'destid'], how = 'left')\n",
    "test_df = test_df.merge(features, on = ['doj', 'srcid', 'destid'], how = 'left')"
   ]
  },
  {
   "cell_type": "markdown",
   "id": "abb667fd-4b6e-49d4-bd65-ca33529a1f69",
   "metadata": {},
   "source": [
    "## Deleting datetime columns"
   ]
  },
  {
   "cell_type": "code",
   "execution_count": 12,
   "id": "7f9c8d42-d94b-466e-b8ca-47fd07f90b4d",
   "metadata": {},
   "outputs": [],
   "source": [
    "train_df = train_df.drop(['doj'], axis = 1)\n",
    "test_df = test_df.drop(['doj'], axis = 1"
   ]
  },
  {
   "cell_type": "markdown",
   "id": "d8aead42-491c-40a2-9084-74c0d6dee7f2",
   "metadata": {},
   "source": [
    "# Data Preparation"
   ]
  },
  {
   "cell_type": "code",
   "execution_count": 15,
   "id": "a27678bb-210d-4d8a-9149-a47c50033755",
   "metadata": {},
   "outputs": [],
   "source": [
    "X = train_df.drop(['final_seatcount'], axis = 1)\n",
    "y = train_df['final_seatcount']\n",
    "\n",
    "X_train, X_test, y_train, y_test = train_test_split(X, y, test_size = 0.2, random_state = 42)"
   ]
  },
  {
   "cell_type": "code",
   "execution_count": 25,
   "id": "3437edc4-1dd9-4d3e-b1fa-f48e8924fbf2",
   "metadata": {},
   "outputs": [
    {
     "data": {
      "text/plain": [
       "np.float64(450.7731434881524)"
      ]
     },
     "execution_count": 25,
     "metadata": {},
     "output_type": "execute_result"
    }
   ],
   "source": [
    "model = XGBRegressor()\n",
    "\n",
    "model.fit(X_train, y_train)\n",
    "\n",
    "y_pred = model.predict(X_test)\n",
    "\n",
    "rmse = np.sqrt(mean_squared_error(y_test, y_pred)) # 450.77\n",
    "rmse"
   ]
  },
  {
   "cell_type": "code",
   "execution_count": 29,
   "id": "6418f320-30da-4602-b14d-b9ea8d385afd",
   "metadata": {},
   "outputs": [
    {
     "data": {
      "text/plain": [
       "srcid                   0.125972\n",
       "destid                  0.129146\n",
       "final_seatcount         1.000000\n",
       "srcid_region            0.120402\n",
       "destid_region           0.123752\n",
       "srcid_tier             -0.073298\n",
       "destid_tier            -0.069496\n",
       "cumsum_seatcount        0.492531\n",
       "cumsum_searchcount      0.412472\n",
       "is_doj_holiday          0.020789\n",
       "is_doi_holiday         -0.015712\n",
       "num_holidays_between   -0.007209\n",
       "doj_dayofweek           0.148771\n",
       "doi_dayofweek           0.128933\n",
       "is_doj_weekend          0.128512\n",
       "doj_near_holiday        0.028642\n",
       "Name: final_seatcount, dtype: float64"
      ]
     },
     "execution_count": 29,
     "metadata": {},
     "output_type": "execute_result"
    }
   ],
   "source": [
    "train_df.corr()['final_seatcount']"
   ]
  },
  {
   "cell_type": "markdown",
   "id": "9567531e-4bc4-4b04-bf53-7a552081923d",
   "metadata": {},
   "source": [
    "# Hyper-parameter Tuning"
   ]
  },
  {
   "cell_type": "markdown",
   "id": "aa55bb15-e9b3-4942-a45f-56b6269009c9",
   "metadata": {},
   "source": [
    "def xgb_objective(trial):\n",
    "    params = {\n",
    "        'n_estimators': trial.suggest_int('n_estimators', 100, 2000),\n",
    "        'max_depth': trial.suggest_int('max_depth', 3, 12),\n",
    "        'learning_rate': trial.suggest_float('learning_rate', 1e-4, 0.3, log=True),\n",
    "        'subsample': trial.suggest_float('subsample', 0.5, 1.0),\n",
    "        'colsample_bytree': trial.suggest_float('colsample_bytree', 0.5, 1.0),\n",
    "        'gamma': trial.suggest_float('gamma', 0, 10),\n",
    "        'reg_alpha': trial.suggest_float('reg_alpha', 1e-8, 100.0, log=True),\n",
    "        'reg_lambda': trial.suggest_float('reg_lambda', 1e-8, 100.0, log=True),\n",
    "        'min_child_weight': trial.suggest_float('min_child_weight', 1, 300),\n",
    "        'tree_method': 'hist',\n",
    "        'random_state': 42,\n",
    "    }\n",
    "\n",
    "    model = XGBRegressor(**params)\n",
    "    model.fit(X_train, y_train,\n",
    "                eval_set = [(X_test, y_test)],\n",
    "                \n",
    "                verbose = 0)\n",
    "    y_pred = model.predict(X_test)\n",
    "    rmse = np.sqrt(mean_squared_error(y_test, y_pred))\n",
    "\n",
    "    return rmse\n",
    "\n",
    "    \n",
    "# Creating the study\n",
    "study = optuna.create_study(\n",
    "                study_name = 'My_XGB_finetuning',\n",
    "                direction = 'minimize',\n",
    "                storage = 'sqlite:///optuna_study_xgb_FE.db',\n",
    "                load_if_exists = True\n",
    "                )\n",
    "\n",
    "\n",
    "print('Starting optimizing for XGBRegressor')\n",
    "study.optimize(xgb_objective, n_trials = 50)\n",
    "\n",
    "print('\\n Optimization finished')\n",
    "print(f'Number of finished trials: {study.trials}')\n",
    "\n",
    "print('Best trial')\n",
    "\n",
    "best_trial = study.best_trial\n",
    "print(f\"  Best RMSE: {best_trial.value:.4f}\")\n",
    "print(f\"  Best parameter:\")\n",
    "for key, value in study.best_trial.params.items():\n",
    "    print(f' {key}= {value}')"
   ]
  },
  {
   "cell_type": "raw",
   "id": "87c0a5eb-69e3-4ac0-9a38-fb8b64bee4c1",
   "metadata": {},
   "source": [
    "study.best_params\n",
    "'''\n",
    "{'n_estimators': 1755,\n",
    " 'max_depth': 11,\n",
    " 'learning_rate': 0.03625453861957001,\n",
    " 'subsample': 0.7790066451555812,\n",
    " 'colsample_bytree': 0.6731412472295383,\n",
    " 'gamma': 2.4418878678623215,\n",
    " 'reg_alpha': 2.1597525096902664e-08,\n",
    " 'reg_lambda': 2.4766274326222894e-05,\n",
    " 'min_child_weight': 37.88062782224772}\n",
    " '''"
   ]
  },
  {
   "cell_type": "markdown",
   "id": "6b0e86f6-b756-4bcf-a4dd-115754e3b1c8",
   "metadata": {},
   "source": [
    "# Model training and testing"
   ]
  },
  {
   "cell_type": "code",
   "execution_count": 30,
   "id": "18a47269-17fa-439c-b6c3-4d4b467af8fc",
   "metadata": {},
   "outputs": [
    {
     "name": "stdout",
     "output_type": "stream",
     "text": [
      "#### Fold 0 ####\n",
      " RMSE = 434.81932499254907\n",
      "#### Fold 1 ####\n",
      " RMSE = 430.1161171446376\n",
      "#### Fold 2 ####\n",
      " RMSE = 432.3394457853122\n",
      "#### Fold 3 ####\n",
      " RMSE = 430.7588860857816\n",
      "#### Fold 4 ####\n",
      " RMSE = 430.9163131994676\n",
      "Average RMSE score = 431.79\n"
     ]
    }
   ],
   "source": [
    "cv = StratifiedKFold(n_splits = 5, random_state = 42, shuffle = True)\n",
    "\n",
    "params = {'n_estimators': 1162, 'max_depth': 7, 'learning_rate': 0.0327176104791863, 'subsample': 0.9050082641305782, 'colsample_bytree': 0.8624043845899972, 'gamma': 7.183492602123284, 'reg_alpha': 0.00021571251148241148, 'reg_lambda': 0.20903498293701747, 'min_child_weight': 9.229715507233834}\n",
    "model = XGBRegressor(**params)\n",
    "scores = []\n",
    "for fold, (train_index, test_index) in enumerate(cv.split(X,y)):\n",
    "    X_train, X_test, y_train, y_test = X.iloc[train_index], X.iloc[test_index], y.iloc[train_index], y.iloc[test_index]\n",
    "\n",
    "    model.fit(X_train, y_train)\n",
    "    y_pred = model.predict(X_test)\n",
    "    \n",
    "    rmse = np.sqrt(mean_squared_error(y_test, y_pred))\n",
    "    print(f'#### Fold {fold} ####')\n",
    "    print(f' RMSE = {rmse}')\n",
    "    scores.append(rmse)\n",
    "\n",
    "print(f'Average RMSE score = {np.mean(scores):.2f}')"
   ]
  },
  {
   "cell_type": "code",
   "execution_count": 31,
   "id": "60fc9b7d-7ad5-49e1-b388-67d86fc4fff1",
   "metadata": {},
   "outputs": [
    {
     "data": {
      "text/plain": [
       "{'srcid': 11593849.0,\n",
       " 'destid': 11507363.0,\n",
       " 'srcid_region': 6473203.5,\n",
       " 'destid_region': 9533611.0,\n",
       " 'srcid_tier': 7645406.0,\n",
       " 'destid_tier': 10358826.0,\n",
       " 'cumsum_seatcount': 9301697.0,\n",
       " 'cumsum_searchcount': 18303756.0,\n",
       " 'is_doj_holiday': 1292288.0,\n",
       " 'is_doi_holiday': 1640148.125,\n",
       " 'num_holidays_between': 1948892.0,\n",
       " 'doj_dayofweek': 2916126.0,\n",
       " 'doi_dayofweek': 3866566.75,\n",
       " 'is_doj_weekend': 2650176.75,\n",
       " 'doj_near_holiday': 2585595.0}"
      ]
     },
     "execution_count": 31,
     "metadata": {},
     "output_type": "execute_result"
    }
   ],
   "source": [
    "model.get_booster().get_score(importance_type='gain')"
   ]
  },
  {
   "cell_type": "markdown",
   "id": "c2aeca94-3362-4b9d-b4b5-7542b1d7c54d",
   "metadata": {},
   "source": [
    "# Submission"
   ]
  },
  {
   "cell_type": "code",
   "execution_count": 18,
   "id": "c538a871-360c-4ee4-8f19-ff2eaa2ed095",
   "metadata": {},
   "outputs": [],
   "source": [
    "params = {'n_estimators': 1755, \n",
    "          'max_depth': 11, \n",
    "          'learning_rate': 0.03625453861957001, \n",
    "          'subsample': 0.7790066451555812, \n",
    "          'colsample_bytree': 0.6731412472295383, \n",
    "          'gamma': 2.4418878678623215, \n",
    "          'reg_alpha': 2.1597525096902664e-08, \n",
    "          'reg_lambda': 2.4766274326222894e-05, \n",
    "          'min_child_weight': 37.88062782224772}\n",
    "\n",
    "model = XGBRegressor(**params)\n",
    "model.fit(X,y)\n",
    "y_pred = model.predict(test_df)\n",
    "\n",
    "final_df = pd.DataFrame(test_data['route_key'])\n",
    "final_df['final_seatcount'] = pd.Series(y_pred)\n",
    "\n",
    "final_df.to_csv('submission.csv', index = False)"
   ]
  }
 ],
 "metadata": {
  "kernelspec": {
   "display_name": "Python 3 (ipykernel)",
   "language": "python",
   "name": "python3"
  },
  "language_info": {
   "codemirror_mode": {
    "name": "ipython",
    "version": 3
   },
   "file_extension": ".py",
   "mimetype": "text/x-python",
   "name": "python",
   "nbconvert_exporter": "python",
   "pygments_lexer": "ipython3",
   "version": "3.11.9"
  }
 },
 "nbformat": 4,
 "nbformat_minor": 5
}
