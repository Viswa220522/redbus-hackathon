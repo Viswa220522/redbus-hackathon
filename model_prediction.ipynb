{
 "cells": [
  {
   "cell_type": "markdown",
   "id": "7eaf95f1-eba4-40b9-9484-ade3774c37b5",
   "metadata": {},
   "source": [
    "### Import the Libraries"
   ]
  },
  {
   "cell_type": "code",
   "execution_count": 30,
   "id": "b1cad0a3-fd3f-4e94-a04d-cca20eaaafbe",
   "metadata": {},
   "outputs": [],
   "source": [
    "import numpy  as np\n",
    "import pandas as pd\n",
    "import matplotlib.pyplot as plt\n",
    "import seaborn as sns\n",
    "\n",
    "from sklearn.preprocessing import OrdinalEncoder\n",
    "\n",
    "from sklearn.model_selection import train_test_split\n",
    "from sklearn.model_selection import StratifiedKFold\n",
    "\n",
    "from sklearn.metrics import mean_squared_error\n",
    "\n",
    "from xgboost import XGBRegressor\n",
    "\n",
    "import optuna\n",
    "import warnings\n",
    "warnings.filterwarnings('ignore')"
   ]
  },
  {
   "cell_type": "markdown",
   "id": "88c0a73c-d25c-4531-9188-f79681eccb19",
   "metadata": {},
   "source": [
    "### Import the Data"
   ]
  },
  {
   "cell_type": "code",
   "execution_count": 2,
   "id": "81d1b358-e032-4d1c-9346-6faec0a12d4c",
   "metadata": {},
   "outputs": [],
   "source": [
    "train_data = pd.read_csv(\"train.csv\")\n",
    "test_data = pd.read_csv(\"test.csv\")\n",
    "transactions_data = pd.read_csv(\"transactions.csv\")\n",
    "# ----------------------------------------------\n",
    "train_df = train_data.copy()\n",
    "test_df = test_data.copy()\n",
    "test_df = test_df.drop('route_key', axis = 1)\n",
    "trans_df = transactions_data.copy()\n",
    "#-------------------------------------------------"
   ]
  },
  {
   "cell_type": "markdown",
   "id": "942e3397-b25d-4f79-a4cb-2281b10d0dec",
   "metadata": {},
   "source": [
    "### Adding features from transactions and date"
   ]
  },
  {
   "cell_type": "code",
   "execution_count": 3,
   "id": "a2ce7c00-3ea6-4ed3-b3cf-e1e2c21d6188",
   "metadata": {},
   "outputs": [],
   "source": [
    "transaction_15 = trans_df[trans_df['dbd'] == 15]\n",
    "\n",
    "features = transaction_15[['doj', 'srcid', 'destid', 'srcid_region', 'destid_region',\n",
    "       'srcid_tier', 'destid_tier', 'cumsum_seatcount', 'cumsum_searchcount']]\n",
    "\n",
    "train_df = train_df.merge(features, on = ['doj', 'srcid', 'destid'], how = 'left')\n",
    "test_df = test_df.merge(features, on = ['doj', 'srcid', 'destid'], how = 'left')\n",
    "\n"
   ]
  },
  {
   "cell_type": "code",
   "execution_count": 4,
   "id": "3e3a8e11-31a1-4150-bef8-d61a12ab54db",
   "metadata": {},
   "outputs": [],
   "source": [
    "dfs = [train_df, test_df]\n",
    "\n",
    "for df in dfs:\n",
    "    \n",
    "    df['doj'] = pd.to_datetime(df['doj'], format = '%Y-%m-%d')\n",
    "\n",
    "    # Extracting new columns with date columns\n",
    "    df['doj' + '_year'] = df['doj'].dt.year\n",
    "    df['doj' + '_month'] = df['doj'].dt.month\n",
    "    df['doj' + '_day'] = df['doj'].dt.day\n",
    "    df['doj' + '_dayofweek'] = df['doj'].dt.dayofweek\n",
    "    df['doj' + '_isweekend'] = df['doj'].dt.dayofweek.isin([5,6]).astype(int)\n",
    "\n",
    "    # Deleting the datetime datatype columns\n",
    "    df.drop(['doj'], axis = 1, inplace = True)"
   ]
  },
  {
   "cell_type": "markdown",
   "id": "517f9b8b-fc1a-47b8-a59b-6d9363d49436",
   "metadata": {},
   "source": [
    "### Preprocessing"
   ]
  },
  {
   "cell_type": "code",
   "execution_count": 5,
   "id": "b0b3ccad-655d-4935-9b1c-42aadcef1cd7",
   "metadata": {},
   "outputs": [],
   "source": [
    "categorical_columns = [col for col in train_df.columns if train_df[col].dtype == 'O']\n",
    "# ['srcid_region', 'destid_region', 'srcid_tier', 'destid_tier']\n",
    "\n",
    "encoder = OrdinalEncoder(dtype = int)\n",
    "\n",
    "train_df[categorical_columns] = encoder.fit_transform(train_df[categorical_columns])\n",
    "test_df[categorical_columns] = encoder.fit_transform(test_df[categorical_columns])"
   ]
  },
  {
   "cell_type": "markdown",
   "id": "d8aead42-491c-40a2-9084-74c0d6dee7f2",
   "metadata": {},
   "source": [
    "### Data Preparation"
   ]
  },
  {
   "cell_type": "code",
   "execution_count": 6,
   "id": "a27678bb-210d-4d8a-9149-a47c50033755",
   "metadata": {},
   "outputs": [],
   "source": [
    "X = train_df.drop(['final_seatcount'], axis = 1)\n",
    "y = train_df['final_seatcount']\n",
    "\n",
    "X_train, X_test, y_train, y_test = train_test_split(X, y, test_size = 0.2, random_state = 42)"
   ]
  },
  {
   "cell_type": "markdown",
   "id": "9567531e-4bc4-4b04-bf53-7a552081923d",
   "metadata": {},
   "source": [
    "### Hyper-parameter Tuning"
   ]
  },
  {
   "cell_type": "raw",
   "id": "28660782-83c6-4500-ba5c-359e07136f2c",
   "metadata": {},
   "source": [
    "def xgb_objective(trial):\n",
    "    params = {\n",
    "        'n_estimators': trial.suggest_int('n_estimators', 100, 2000),\n",
    "        'max_depth': trial.suggest_int('max_depth', 3, 12),\n",
    "        'learning_rate': trial.suggest_float('learning_rate', 1e-4, 0.3, log=True),\n",
    "        'subsample': trial.suggest_float('subsample', 0.5, 1.0),\n",
    "        'colsample_bytree': trial.suggest_float('colsample_bytree', 0.5, 1.0),\n",
    "        'gamma': trial.suggest_float('gamma', 0, 10),\n",
    "        'reg_alpha': trial.suggest_float('reg_alpha', 1e-8, 100.0, log=True),\n",
    "        'reg_lambda': trial.suggest_float('reg_lambda', 1e-8, 100.0, log=True),\n",
    "        'min_child_weight': trial.suggest_float('min_child_weight', 1, 300),\n",
    "        'tree_method': 'hist',\n",
    "        'random_state': 42,\n",
    "    }\n",
    "\n",
    "    model = XGBRegressor(**params)\n",
    "    model.fit(X_train, y_train,\n",
    "                eval_set = [(X_test, y_test)],\n",
    "                \n",
    "                verbose = 0)\n",
    "    y_pred = model.predict(X_test)\n",
    "    rmse = np.sqrt(mean_squared_error(y_test, y_pred))\n",
    "\n",
    "    return rmse\n",
    "\n",
    "    \n",
    "# Creating the study\n",
    "study = optuna.create_study(\n",
    "                study_name = 'My_XGB_finetuning',\n",
    "                direction = 'minimize',\n",
    "                storage = 'sqlite:///optuna_study_xgb.db',\n",
    "                load_if_exists = True\n",
    "                )\n",
    "\n",
    "\n",
    "print('Starting optimizing for XGBRegressor')\n",
    "study.optimize(xgb_objective, n_trials = 50)\n",
    "\n",
    "print('\\n Optimization finished')\n",
    "print(f'Number of finished trials: {study.trials}')\n",
    "\n",
    "print('Best trial')\n",
    "\n",
    "best_trial = study.best_trial\n",
    "print(f\"  Best RMSE: {best_trial.value:.4f}\")\n",
    "print(f\"  Best parameter:\")\n",
    "for key, value in study.best_trial.params.items():\n",
    "    print(f' {key}= {value}')"
   ]
  },
  {
   "cell_type": "raw",
   "id": "87c0a5eb-69e3-4ac0-9a38-fb8b64bee4c1",
   "metadata": {},
   "source": [
    "study.best_params\n",
    "'''\n",
    "{'n_estimators': 1755,\n",
    " 'max_depth': 11,\n",
    " 'learning_rate': 0.03625453861957001,\n",
    " 'subsample': 0.7790066451555812,\n",
    " 'colsample_bytree': 0.6731412472295383,\n",
    " 'gamma': 2.4418878678623215,\n",
    " 'reg_alpha': 2.1597525096902664e-08,\n",
    " 'reg_lambda': 2.4766274326222894e-05,\n",
    " 'min_child_weight': 37.88062782224772}\n",
    " '''"
   ]
  },
  {
   "cell_type": "markdown",
   "id": "6b0e86f6-b756-4bcf-a4dd-115754e3b1c8",
   "metadata": {},
   "source": [
    "### Model training and testing"
   ]
  },
  {
   "cell_type": "code",
   "execution_count": 49,
   "id": "18a47269-17fa-439c-b6c3-4d4b467af8fc",
   "metadata": {},
   "outputs": [
    {
     "name": "stdout",
     "output_type": "stream",
     "text": [
      "#### Fold 0 ####\n",
      " RMSE = 341.87024222245617\n",
      "#### Fold 1 ####\n",
      " RMSE = 331.6364993678596\n",
      "#### Fold 2 ####\n",
      " RMSE = 333.2831622600326\n",
      "#### Fold 3 ####\n",
      " RMSE = 337.60424233100167\n",
      "#### Fold 4 ####\n",
      " RMSE = 337.1076564377658\n",
      "Average RMSE score = 336.30\n"
     ]
    }
   ],
   "source": [
    "cv = StratifiedKFold(n_splits = 5, random_state = 42, shuffle = True)\n",
    "\n",
    "params = {'n_estimators': 1755, \n",
    "          'max_depth': 11, \n",
    "          'learning_rate': 0.03625453861957001, \n",
    "          'subsample': 0.7790066451555812, \n",
    "          'colsample_bytree': 0.6731412472295383, \n",
    "          'gamma': 2.4418878678623215, \n",
    "          'reg_alpha': 2.1597525096902664e-08, \n",
    "          'reg_lambda': 2.4766274326222894e-05, \n",
    "          'min_child_weight': 37.88062782224772}\n",
    "model = XGBRegressor(**params)\n",
    "scores = []\n",
    "for fold, (train_index, test_index) in enumerate(cv.split(X,y)):\n",
    "    X_train, X_test, y_train, y_test = X.iloc[train_index], X.iloc[test_index], y.iloc[train_index], y.iloc[test_index]\n",
    "\n",
    "    model.fit(X_train, y_train)\n",
    "    y_pred = model.predict(X_test)\n",
    "    \n",
    "    rmse = np.sqrt(mean_squared_error(y_test, y_pred))\n",
    "    print(f'#### Fold {fold} ####')\n",
    "    print(f' RMSE = {rmse}')\n",
    "    scores.append(rmse)\n",
    "\n",
    "print(f'Average RMSE score = {np.mean(scores):.2f}')"
   ]
  },
  {
   "cell_type": "markdown",
   "id": "c2aeca94-3362-4b9d-b4b5-7542b1d7c54d",
   "metadata": {},
   "source": [
    "## Submission"
   ]
  },
  {
   "cell_type": "code",
   "execution_count": 54,
   "id": "c538a871-360c-4ee4-8f19-ff2eaa2ed095",
   "metadata": {},
   "outputs": [],
   "source": [
    "params = {'n_estimators': 1755, \n",
    "          'max_depth': 11, \n",
    "          'learning_rate': 0.03625453861957001, \n",
    "          'subsample': 0.7790066451555812, \n",
    "          'colsample_bytree': 0.6731412472295383, \n",
    "          'gamma': 2.4418878678623215, \n",
    "          'reg_alpha': 2.1597525096902664e-08, \n",
    "          'reg_lambda': 2.4766274326222894e-05, \n",
    "          'min_child_weight': 37.88062782224772}\n",
    "\n",
    "model = XGBRegressor(**params)\n",
    "model.fit(X,y)\n",
    "y_pred = model.predict(test_df)\n",
    "\n",
    "final_df = pd.DataFrame(test_data['route_key'])\n",
    "final_df['final_seatcount'] = pd.Series(y_pred)\n",
    "\n",
    "final_df.to_csv('submission.csv', index = False)"
   ]
  }
 ],
 "metadata": {
  "kernelspec": {
   "display_name": "Python 3 (ipykernel)",
   "language": "python",
   "name": "python3"
  },
  "language_info": {
   "codemirror_mode": {
    "name": "ipython",
    "version": 3
   },
   "file_extension": ".py",
   "mimetype": "text/x-python",
   "name": "python",
   "nbconvert_exporter": "python",
   "pygments_lexer": "ipython3",
   "version": "3.11.9"
  }
 },
 "nbformat": 4,
 "nbformat_minor": 5
}
