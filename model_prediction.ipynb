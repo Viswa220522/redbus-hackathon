{
 "cells": [
  {
   "cell_type": "markdown",
   "id": "7eaf95f1-eba4-40b9-9484-ade3774c37b5",
   "metadata": {},
   "source": [
    "### Import the Libraries"
   ]
  },
  {
   "cell_type": "code",
   "execution_count": 1,
   "id": "b1cad0a3-fd3f-4e94-a04d-cca20eaaafbe",
   "metadata": {},
   "outputs": [],
   "source": [
    "import numpy  as np\n",
    "import pandas as pd\n",
    "import matplotlib.pyplot as plt\n",
    "import seaborn as sns\n",
    "\n",
    "from sklearn.preprocessing import OrdinalEncoder\n",
    "\n",
    "from sklearn.model_selection import train_test_split\n",
    "\n",
    "from sklearn.metrics import mean_squared_error\n",
    "\n",
    "from xgboost import XGBRegressor"
   ]
  },
  {
   "cell_type": "markdown",
   "id": "88c0a73c-d25c-4531-9188-f79681eccb19",
   "metadata": {},
   "source": [
    "### Import the Data"
   ]
  },
  {
   "cell_type": "code",
   "execution_count": 2,
   "id": "81d1b358-e032-4d1c-9346-6faec0a12d4c",
   "metadata": {},
   "outputs": [],
   "source": [
    "train_data = pd.read_csv(\"train.csv\")\n",
    "test_data = pd.read_csv(\"test.csv\")\n",
    "transactions_data = pd.read_csv(\"transactions.csv\")\n",
    "# ----------------------------------------------\n",
    "train_df = train_data.copy()\n",
    "test_df = test_data.copy()\n",
    "test_df = test_df.drop('route_key', axis = 1)\n",
    "trans_df = transactions_data.copy()\n",
    "#-------------------------------------------------"
   ]
  },
  {
   "cell_type": "markdown",
   "id": "942e3397-b25d-4f79-a4cb-2281b10d0dec",
   "metadata": {},
   "source": [
    "### Adding features from transactions and date"
   ]
  },
  {
   "cell_type": "code",
   "execution_count": 3,
   "id": "a2ce7c00-3ea6-4ed3-b3cf-e1e2c21d6188",
   "metadata": {},
   "outputs": [],
   "source": [
    "transaction_15 = trans_df[trans_df['dbd'] == 15]\n",
    "\n",
    "features = transaction_15[['doj', 'srcid', 'destid', 'srcid_region', 'destid_region',\n",
    "       'srcid_tier', 'destid_tier', 'cumsum_seatcount', 'cumsum_searchcount']]\n",
    "\n",
    "train_df = train_df.merge(features, on = ['doj', 'srcid', 'destid'], how = 'left')\n",
    "test_df = test_df.merge(features, on = ['doj', 'srcid', 'destid'], how = 'left')\n",
    "\n"
   ]
  },
  {
   "cell_type": "code",
   "execution_count": 4,
   "id": "3e3a8e11-31a1-4150-bef8-d61a12ab54db",
   "metadata": {},
   "outputs": [],
   "source": [
    "dfs = [train_df, test_df]\n",
    "\n",
    "for df in dfs:\n",
    "    \n",
    "    df['doj'] = pd.to_datetime(df['doj'], format = '%Y-%m-%d')\n",
    "\n",
    "    # Extracting new columns with date columns\n",
    "    df['doj' + '_year'] = df['doj'].dt.year\n",
    "    df['doj' + '_month'] = df['doj'].dt.month\n",
    "    df['doj' + '_day'] = df['doj'].dt.day\n",
    "    df['doj' + '_dayofweek'] = df['doj'].dt.dayofweek\n",
    "    df['doj' + '_isweekend'] = df['doj'].dt.dayofweek.isin([5,6]).astype(int)\n",
    "\n",
    "    # Deleting the datetime datatype columns\n",
    "    df.drop(['doj'], axis = 1, inplace = True)"
   ]
  },
  {
   "cell_type": "markdown",
   "id": "517f9b8b-fc1a-47b8-a59b-6d9363d49436",
   "metadata": {},
   "source": [
    "### Preprocessing"
   ]
  },
  {
   "cell_type": "code",
   "execution_count": 5,
   "id": "b0b3ccad-655d-4935-9b1c-42aadcef1cd7",
   "metadata": {},
   "outputs": [],
   "source": [
    "categorical_columns = [col for col in train_df.columns if train_df[col].dtype == 'O']\n",
    "# ['srcid_region', 'destid_region', 'srcid_tier', 'destid_tier']\n",
    "\n",
    "encoder = OrdinalEncoder(dtype = int)\n",
    "\n",
    "train_df[categorical_columns] = encoder.fit_transform(train_df[categorical_columns])\n",
    "test_df[categorical_columns] = encoder.fit_transform(test_df[categorical_columns])"
   ]
  },
  {
   "cell_type": "markdown",
   "id": "d8aead42-491c-40a2-9084-74c0d6dee7f2",
   "metadata": {},
   "source": [
    "### Data Preparation"
   ]
  },
  {
   "cell_type": "code",
   "execution_count": 6,
   "id": "a27678bb-210d-4d8a-9149-a47c50033755",
   "metadata": {},
   "outputs": [],
   "source": [
    "X = train_df.drop(['final_seatcount'], axis = 1)\n",
    "y = train_df['final_seatcount']\n",
    "\n",
    "X_train, X_test, y_train, y_test = train_test_split(X, y, test_size = 0.2, random_state = 42)"
   ]
  },
  {
   "cell_type": "markdown",
   "id": "6b0e86f6-b756-4bcf-a4dd-115754e3b1c8",
   "metadata": {},
   "source": [
    "### Model training and testing"
   ]
  },
  {
   "cell_type": "code",
   "execution_count": 7,
   "id": "18a47269-17fa-439c-b6c3-4d4b467af8fc",
   "metadata": {},
   "outputs": [
    {
     "name": "stdout",
     "output_type": "stream",
     "text": [
      "392.09103789169905\n"
     ]
    }
   ],
   "source": [
    "model = XGBRegressor()\n",
    "model.fit(X_train, y_train)\n",
    "\n",
    "y_pred = model.predict(X_test)\n",
    "\n",
    "rmse = np.sqrt(mean_squared_error(y_test, y_pred)) # 504.88480654785326\n",
    "print(rmse)"
   ]
  },
  {
   "cell_type": "markdown",
   "id": "c2aeca94-3362-4b9d-b4b5-7542b1d7c54d",
   "metadata": {},
   "source": [
    "## Submission"
   ]
  },
  {
   "cell_type": "code",
   "execution_count": 8,
   "id": "4bdec528-7eb2-44de-b526-6b00c2167a88",
   "metadata": {},
   "outputs": [],
   "source": [
    "model = XGBRegressor()\n",
    "model.fit(X,y)\n",
    "y_pred = model.predict(test_df)\n",
    "\n",
    "final_df = pd.DataFrame(test_data['route_key'])\n",
    "final_df['final_seatcount'] = pd.Series(y_pred)\n",
    "\n",
    "final_df.to_csv('submission.csv', index = False)"
   ]
  },
  {
   "cell_type": "code",
   "execution_count": null,
   "id": "e29bd511-5d10-4b6d-8296-eb648c022ee0",
   "metadata": {},
   "outputs": [],
   "source": []
  }
 ],
 "metadata": {
  "kernelspec": {
   "display_name": "Python 3 (ipykernel)",
   "language": "python",
   "name": "python3"
  },
  "language_info": {
   "codemirror_mode": {
    "name": "ipython",
    "version": 3
   },
   "file_extension": ".py",
   "mimetype": "text/x-python",
   "name": "python",
   "nbconvert_exporter": "python",
   "pygments_lexer": "ipython3",
   "version": "3.11.9"
  }
 },
 "nbformat": 4,
 "nbformat_minor": 5
}
