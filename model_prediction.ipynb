{
 "cells": [
  {
   "cell_type": "markdown",
   "id": "7eaf95f1-eba4-40b9-9484-ade3774c37b5",
   "metadata": {},
   "source": [
    "# Import the Libraries"
   ]
  },
  {
   "cell_type": "code",
   "execution_count": 1,
   "id": "b1cad0a3-fd3f-4e94-a04d-cca20eaaafbe",
   "metadata": {},
   "outputs": [],
   "source": [
    "import numpy  as np\n",
    "import pandas as pd\n",
    "import matplotlib.pyplot as plt\n",
    "import seaborn as sns\n",
    "\n",
    "from sklearn.preprocessing import OrdinalEncoder\n",
    "\n",
    "from sklearn.model_selection import train_test_split\n",
    "from sklearn.model_selection import StratifiedKFold\n",
    "\n",
    "from sklearn.metrics import mean_squared_error\n",
    "\n",
    "from xgboost import XGBRegressor\n",
    "\n",
    "import optuna\n",
    "import warnings\n",
    "warnings.filterwarnings('ignore')"
   ]
  },
  {
   "cell_type": "markdown",
   "id": "88c0a73c-d25c-4531-9188-f79681eccb19",
   "metadata": {},
   "source": [
    "# Import the Data"
   ]
  },
  {
   "cell_type": "code",
   "execution_count": 2,
   "id": "81d1b358-e032-4d1c-9346-6faec0a12d4c",
   "metadata": {},
   "outputs": [],
   "source": [
    "train_data = pd.read_csv(\"train.csv\")\n",
    "test_data = pd.read_csv(\"test.csv\")\n",
    "transactions_data = pd.read_csv(\"transactions.csv\")\n",
    "# ----------------------------------------------\n",
    "train_df = train_data.copy()\n",
    "test_df = test_data.copy()\n",
    "test_df = test_df.drop('route_key', axis = 1)\n",
    "trans_df = transactions_data.copy()\n",
    "#-------------------------------------------------"
   ]
  },
  {
   "cell_type": "markdown",
   "id": "bc9bf25a-7eed-4324-8c70-280eaf8aa18b",
   "metadata": {},
   "source": [
    "# Data Transformation"
   ]
  },
  {
   "cell_type": "markdown",
   "id": "942e3397-b25d-4f79-a4cb-2281b10d0dec",
   "metadata": {},
   "source": [
    "## Merge Data"
   ]
  },
  {
   "cell_type": "code",
   "execution_count": 3,
   "id": "a2ce7c00-3ea6-4ed3-b3cf-e1e2c21d6188",
   "metadata": {},
   "outputs": [],
   "source": [
    "transaction_15 = trans_df[trans_df['dbd'] == 15]\n",
    "\n",
    "features = transaction_15[['doj', 'srcid', 'destid', 'srcid_region', 'destid_region',\n",
    "       'srcid_tier', 'destid_tier', 'cumsum_seatcount', 'cumsum_searchcount']]\n",
    "\n",
    "train_df = train_df.merge(features, on = ['doj', 'srcid', 'destid'], how = 'left')\n",
    "test_df = test_df.merge(features, on = ['doj', 'srcid', 'destid'], how = 'left')"
   ]
  },
  {
   "cell_type": "code",
   "execution_count": 4,
   "id": "2a3ec8a0-0b72-49cb-8d8f-2c97dd67e48d",
   "metadata": {},
   "outputs": [],
   "source": [
    "## Converting Dataype of doj"
   ]
  },
  {
   "cell_type": "code",
   "execution_count": 5,
   "id": "3e3a8e11-31a1-4150-bef8-d61a12ab54db",
   "metadata": {},
   "outputs": [],
   "source": [
    "dfs = [train_df, test_df]\n",
    "\n",
    "for df in dfs:    \n",
    "    df['doj'] = pd.to_datetime(df['doj'], format = '%Y-%m-%d')"
   ]
  },
  {
   "cell_type": "markdown",
   "id": "047935f7-8ed7-49ae-af3a-8ca96b7178e2",
   "metadata": {},
   "source": [
    "# Feature Engineering"
   ]
  },
  {
   "cell_type": "markdown",
   "id": "69888bdf-73d5-4670-ade3-a17236903811",
   "metadata": {},
   "source": [
    "## Extracting new columns with date columns"
   ]
  },
  {
   "cell_type": "code",
   "execution_count": 6,
   "id": "8ae5d966-a6c8-4e39-bef0-d674098a5ff6",
   "metadata": {},
   "outputs": [],
   "source": [
    "dfs = [train_df, test_df]\n",
    "\n",
    "for df in dfs:\n",
    "    \n",
    "    df['doj' + '_year'] = df['doj'].dt.year\n",
    "    df['doj' + '_month'] = df['doj'].dt.month\n",
    "    df['doj' + '_day'] = df['doj'].dt.day\n",
    "    df['doj' + '_dayofweek'] = df['doj'].dt.dayofweek\n",
    "    df['doj' + '_isweekend'] = df['doj'].dt.dayofweek.isin([5,6]).astype(int)"
   ]
  },
  {
   "cell_type": "markdown",
   "id": "22397478-1f49-4576-86d0-73a96e1e8e43",
   "metadata": {},
   "source": [
    "## encode doj_month with sin/cos encoding to help model cyclical patterns:"
   ]
  },
  {
   "cell_type": "code",
   "execution_count": 7,
   "id": "bbe93b67-6785-4732-a5ae-18a48439591f",
   "metadata": {},
   "outputs": [],
   "source": [
    "train_df['doj_month_sin'] = np.sin(2 * np.pi * train_df['doj_month'] / 12)\n",
    "train_df['doj_month_cos'] = np.cos(2 * np.pi * train_df['doj_month'] / 12)\n",
    "\n",
    "test_df['doj_month_sin'] = np.sin(2 * np.pi * test_df['doj_month'] / 12)\n",
    "test_df['doj_month_cos'] = np.cos(2 * np.pi * test_df['doj_month'] / 12)"
   ]
  },
  {
   "cell_type": "code",
   "execution_count": 8,
   "id": "beb6deb5-00f6-4af8-af00-25e2ce30e048",
   "metadata": {},
   "outputs": [],
   "source": [
    "monthly_agg_train = train_df.groupby('doj_month').agg(\n",
    "    avg_cumsum=('cumsum_seatcount', 'mean'),\n",
    "    trips=('cumsum_seatcount', 'count')\n",
    ").reset_index()\n",
    "\n",
    "train_df = train_df.merge(monthly_agg_train, on='doj_month', how='left')\n",
    "\n",
    "monthly_agg_test = test_df.groupby('doj_month').agg(\n",
    "    avg_cumsum=('cumsum_seatcount', 'mean'),\n",
    "    trips=('cumsum_seatcount', 'count')\n",
    ").reset_index()\n",
    "\n",
    "test_df = test_df.merge(monthly_agg_test, on='doj_month', how = 'left')"
   ]
  },
  {
   "cell_type": "code",
   "execution_count": 9,
   "id": "c27cbd97-e57d-4e3e-a6dd-3ab01b27e393",
   "metadata": {},
   "outputs": [
    {
     "data": {
      "text/html": [
       "<div>\n",
       "<style scoped>\n",
       "    .dataframe tbody tr th:only-of-type {\n",
       "        vertical-align: middle;\n",
       "    }\n",
       "\n",
       "    .dataframe tbody tr th {\n",
       "        vertical-align: top;\n",
       "    }\n",
       "\n",
       "    .dataframe thead th {\n",
       "        text-align: right;\n",
       "    }\n",
       "</style>\n",
       "<table border=\"1\" class=\"dataframe\">\n",
       "  <thead>\n",
       "    <tr style=\"text-align: right;\">\n",
       "      <th></th>\n",
       "      <th>doj</th>\n",
       "      <th>srcid</th>\n",
       "      <th>destid</th>\n",
       "      <th>final_seatcount</th>\n",
       "      <th>srcid_region</th>\n",
       "      <th>destid_region</th>\n",
       "      <th>srcid_tier</th>\n",
       "      <th>destid_tier</th>\n",
       "      <th>cumsum_seatcount</th>\n",
       "      <th>cumsum_searchcount</th>\n",
       "      <th>doj_year</th>\n",
       "      <th>doj_month</th>\n",
       "      <th>doj_day</th>\n",
       "      <th>doj_dayofweek</th>\n",
       "      <th>doj_isweekend</th>\n",
       "      <th>doj_month_sin</th>\n",
       "      <th>doj_month_cos</th>\n",
       "      <th>avg_cumsum</th>\n",
       "      <th>trips</th>\n",
       "    </tr>\n",
       "  </thead>\n",
       "  <tbody>\n",
       "    <tr>\n",
       "      <th>0</th>\n",
       "      <td>2023-03-01</td>\n",
       "      <td>45</td>\n",
       "      <td>46</td>\n",
       "      <td>2838.0</td>\n",
       "      <td>Karnataka</td>\n",
       "      <td>Tamil Nadu</td>\n",
       "      <td>Tier 1</td>\n",
       "      <td>Tier 1</td>\n",
       "      <td>16.0</td>\n",
       "      <td>480.0</td>\n",
       "      <td>2023</td>\n",
       "      <td>3</td>\n",
       "      <td>1</td>\n",
       "      <td>2</td>\n",
       "      <td>0</td>\n",
       "      <td>1.0</td>\n",
       "      <td>6.123234e-17</td>\n",
       "      <td>36.772419</td>\n",
       "      <td>6200</td>\n",
       "    </tr>\n",
       "    <tr>\n",
       "      <th>1</th>\n",
       "      <td>2023-03-01</td>\n",
       "      <td>46</td>\n",
       "      <td>45</td>\n",
       "      <td>2298.0</td>\n",
       "      <td>Tamil Nadu</td>\n",
       "      <td>Karnataka</td>\n",
       "      <td>Tier 1</td>\n",
       "      <td>Tier 1</td>\n",
       "      <td>34.0</td>\n",
       "      <td>352.0</td>\n",
       "      <td>2023</td>\n",
       "      <td>3</td>\n",
       "      <td>1</td>\n",
       "      <td>2</td>\n",
       "      <td>0</td>\n",
       "      <td>1.0</td>\n",
       "      <td>6.123234e-17</td>\n",
       "      <td>36.772419</td>\n",
       "      <td>6200</td>\n",
       "    </tr>\n",
       "    <tr>\n",
       "      <th>2</th>\n",
       "      <td>2023-03-01</td>\n",
       "      <td>45</td>\n",
       "      <td>47</td>\n",
       "      <td>2720.0</td>\n",
       "      <td>Karnataka</td>\n",
       "      <td>Andhra Pradesh</td>\n",
       "      <td>Tier 1</td>\n",
       "      <td>Tier 1</td>\n",
       "      <td>36.0</td>\n",
       "      <td>892.0</td>\n",
       "      <td>2023</td>\n",
       "      <td>3</td>\n",
       "      <td>1</td>\n",
       "      <td>2</td>\n",
       "      <td>0</td>\n",
       "      <td>1.0</td>\n",
       "      <td>6.123234e-17</td>\n",
       "      <td>36.772419</td>\n",
       "      <td>6200</td>\n",
       "    </tr>\n",
       "    <tr>\n",
       "      <th>3</th>\n",
       "      <td>2023-03-01</td>\n",
       "      <td>47</td>\n",
       "      <td>45</td>\n",
       "      <td>2580.0</td>\n",
       "      <td>Andhra Pradesh</td>\n",
       "      <td>Karnataka</td>\n",
       "      <td>Tier 1</td>\n",
       "      <td>Tier 1</td>\n",
       "      <td>18.0</td>\n",
       "      <td>1130.0</td>\n",
       "      <td>2023</td>\n",
       "      <td>3</td>\n",
       "      <td>1</td>\n",
       "      <td>2</td>\n",
       "      <td>0</td>\n",
       "      <td>1.0</td>\n",
       "      <td>6.123234e-17</td>\n",
       "      <td>36.772419</td>\n",
       "      <td>6200</td>\n",
       "    </tr>\n",
       "    <tr>\n",
       "      <th>4</th>\n",
       "      <td>2023-03-01</td>\n",
       "      <td>46</td>\n",
       "      <td>9</td>\n",
       "      <td>4185.0</td>\n",
       "      <td>Tamil Nadu</td>\n",
       "      <td>Tamil Nadu</td>\n",
       "      <td>Tier 1</td>\n",
       "      <td>Tier2</td>\n",
       "      <td>48.0</td>\n",
       "      <td>1023.0</td>\n",
       "      <td>2023</td>\n",
       "      <td>3</td>\n",
       "      <td>1</td>\n",
       "      <td>2</td>\n",
       "      <td>0</td>\n",
       "      <td>1.0</td>\n",
       "      <td>6.123234e-17</td>\n",
       "      <td>36.772419</td>\n",
       "      <td>6200</td>\n",
       "    </tr>\n",
       "  </tbody>\n",
       "</table>\n",
       "</div>"
      ],
      "text/plain": [
       "         doj  srcid  destid  final_seatcount    srcid_region   destid_region  \\\n",
       "0 2023-03-01     45      46           2838.0       Karnataka      Tamil Nadu   \n",
       "1 2023-03-01     46      45           2298.0      Tamil Nadu       Karnataka   \n",
       "2 2023-03-01     45      47           2720.0       Karnataka  Andhra Pradesh   \n",
       "3 2023-03-01     47      45           2580.0  Andhra Pradesh       Karnataka   \n",
       "4 2023-03-01     46       9           4185.0      Tamil Nadu      Tamil Nadu   \n",
       "\n",
       "  srcid_tier destid_tier  cumsum_seatcount  cumsum_searchcount  doj_year  \\\n",
       "0     Tier 1      Tier 1              16.0               480.0      2023   \n",
       "1     Tier 1      Tier 1              34.0               352.0      2023   \n",
       "2     Tier 1      Tier 1              36.0               892.0      2023   \n",
       "3     Tier 1      Tier 1              18.0              1130.0      2023   \n",
       "4     Tier 1       Tier2              48.0              1023.0      2023   \n",
       "\n",
       "   doj_month  doj_day  doj_dayofweek  doj_isweekend  doj_month_sin  \\\n",
       "0          3        1              2              0            1.0   \n",
       "1          3        1              2              0            1.0   \n",
       "2          3        1              2              0            1.0   \n",
       "3          3        1              2              0            1.0   \n",
       "4          3        1              2              0            1.0   \n",
       "\n",
       "   doj_month_cos  avg_cumsum  trips  \n",
       "0   6.123234e-17   36.772419   6200  \n",
       "1   6.123234e-17   36.772419   6200  \n",
       "2   6.123234e-17   36.772419   6200  \n",
       "3   6.123234e-17   36.772419   6200  \n",
       "4   6.123234e-17   36.772419   6200  "
      ]
     },
     "execution_count": 9,
     "metadata": {},
     "output_type": "execute_result"
    }
   ],
   "source": [
    "train_df.head()"
   ]
  },
  {
   "cell_type": "markdown",
   "id": "517f9b8b-fc1a-47b8-a59b-6d9363d49436",
   "metadata": {},
   "source": [
    "# Preprocessing"
   ]
  },
  {
   "cell_type": "markdown",
   "id": "0827a6dd-1c39-4076-961e-e8cf54b3982c",
   "metadata": {},
   "source": [
    "## Transforming Categorical Columns"
   ]
  },
  {
   "cell_type": "code",
   "execution_count": 10,
   "id": "b0b3ccad-655d-4935-9b1c-42aadcef1cd7",
   "metadata": {},
   "outputs": [],
   "source": [
    "categorical_columns = [col for col in train_df.columns if train_df[col].dtype == 'O']\n",
    "# ['srcid_region', 'destid_region', 'srcid_tier', 'destid_tier']\n",
    "\n",
    "encoder = OrdinalEncoder(dtype = int)\n",
    "\n",
    "train_df[categorical_columns] = encoder.fit_transform(train_df[categorical_columns])\n",
    "test_df[categorical_columns] = encoder.fit_transform(test_df[categorical_columns])"
   ]
  },
  {
   "cell_type": "markdown",
   "id": "8885f51b-0cc3-43f1-a003-3aeb125d18a4",
   "metadata": {},
   "source": [
    "## Delete doj column"
   ]
  },
  {
   "cell_type": "code",
   "execution_count": 11,
   "id": "3de031dc-7767-4b9c-aafe-3b2b0bd5605d",
   "metadata": {},
   "outputs": [],
   "source": [
    "train_df = train_df.drop(['doj'], axis =1)\n",
    "test_df = test_df.drop(['doj'], axis = 1)"
   ]
  },
  {
   "cell_type": "markdown",
   "id": "d8aead42-491c-40a2-9084-74c0d6dee7f2",
   "metadata": {},
   "source": [
    "# Data Preparation"
   ]
  },
  {
   "cell_type": "code",
   "execution_count": 12,
   "id": "a27678bb-210d-4d8a-9149-a47c50033755",
   "metadata": {},
   "outputs": [],
   "source": [
    "X = train_df.drop(['final_seatcount'], axis = 1)\n",
    "y = train_df['final_seatcount']\n",
    "\n",
    "X_train, X_test, y_train, y_test = train_test_split(X, y, test_size = 0.2, random_state = 42)"
   ]
  },
  {
   "cell_type": "markdown",
   "id": "9567531e-4bc4-4b04-bf53-7a552081923d",
   "metadata": {},
   "source": [
    "# Hyper-parameter Tuning"
   ]
  },
  {
   "cell_type": "raw",
   "id": "0b3ce79d-7f9e-4a39-a9d2-de054c7976b1",
   "metadata": {},
   "source": [
    "def xgb_objective(trial):\n",
    "    params = {\n",
    "        'n_estimators': trial.suggest_int('n_estimators', 100, 2000),\n",
    "        'max_depth': trial.suggest_int('max_depth', 3, 12),\n",
    "        'learning_rate': trial.suggest_float('learning_rate', 1e-4, 0.3, log=True),\n",
    "        'subsample': trial.suggest_float('subsample', 0.5, 1.0),\n",
    "        'colsample_bytree': trial.suggest_float('colsample_bytree', 0.5, 1.0),\n",
    "        'gamma': trial.suggest_float('gamma', 0, 10),\n",
    "        'reg_alpha': trial.suggest_float('reg_alpha', 1e-8, 100.0, log=True),\n",
    "        'reg_lambda': trial.suggest_float('reg_lambda', 1e-8, 100.0, log=True),\n",
    "        'min_child_weight': trial.suggest_float('min_child_weight', 1, 300),\n",
    "        'tree_method': 'hist',\n",
    "        'random_state': 42,\n",
    "    }\n",
    "\n",
    "    model = XGBRegressor(**params)\n",
    "    model.fit(X_train, y_train,\n",
    "                eval_set = [(X_test, y_test)],\n",
    "                \n",
    "                verbose = 0)\n",
    "    y_pred = model.predict(X_test)\n",
    "    rmse = np.sqrt(mean_squared_error(y_test, y_pred))\n",
    "\n",
    "    return rmse\n",
    "\n",
    "    \n",
    "# Creating the study\n",
    "study = optuna.create_study(\n",
    "                study_name = 'My_XGB_finetuning',\n",
    "                direction = 'minimize',\n",
    "                storage = 'sqlite:///optuna_study_xgb_fe.db',\n",
    "                load_if_exists = True\n",
    "                )\n",
    "\n",
    "\n",
    "print('Starting optimizing for XGBRegressor')\n",
    "study.optimize(xgb_objective, n_trials = 50)\n",
    "\n",
    "print('\\n Optimization finished')\n",
    "print(f'Number of finished trials: {study.trials}')\n",
    "\n",
    "print('Best trial')\n",
    "\n",
    "best_trial = study.best_trial\n",
    "print(f\"  Best RMSE: {best_trial.value:.4f}\")\n",
    "print(f\"  Best parameter:\")\n",
    "for key, value in study.best_trial.params.items():\n",
    "    print(f' {key}= {value}')"
   ]
  },
  {
   "cell_type": "raw",
   "id": "a59460b8-15c3-4204-b5c7-7fff79a3442d",
   "metadata": {},
   "source": [
    "study.best_params\n",
    "'''\n",
    "{'n_estimators': 1308, \n",
    "          'max_depth': 11, \n",
    "          'learning_rate': 0.08271400384945467, \n",
    "          'subsample': 0.9522311846284324, \n",
    "          'colsample_bytree': 0.6173075657509195, \n",
    "          'gamma': 2.534318254800432, \n",
    "          'reg_alpha': 28.608542170321446, \n",
    "          'reg_lambda': 9.564406519071592e-08, \n",
    "          'min_child_weight': 46.43542065154699}\n",
    " '''"
   ]
  },
  {
   "cell_type": "markdown",
   "id": "6b0e86f6-b756-4bcf-a4dd-115754e3b1c8",
   "metadata": {},
   "source": [
    "# Model training and testing"
   ]
  },
  {
   "cell_type": "code",
   "execution_count": 17,
   "id": "18a47269-17fa-439c-b6c3-4d4b467af8fc",
   "metadata": {},
   "outputs": [
    {
     "name": "stdout",
     "output_type": "stream",
     "text": [
      "#### Fold 0 ####\n",
      " RMSE = 336.96037321955083\n",
      "#### Fold 1 ####\n",
      " RMSE = 325.7640826405754\n",
      "#### Fold 2 ####\n",
      " RMSE = 329.7954161853825\n",
      "#### Fold 3 ####\n",
      " RMSE = 331.8384537345266\n",
      "#### Fold 4 ####\n",
      " RMSE = 330.2297737475059\n",
      "Average RMSE score = 330.92\n"
     ]
    }
   ],
   "source": [
    "cv = StratifiedKFold(n_splits = 5, random_state = 42, shuffle = True)\n",
    "\n",
    "params = {'n_estimators': 1308, \n",
    "          'max_depth': 11, \n",
    "          'learning_rate': 0.08271400384945467, \n",
    "          'subsample': 0.9522311846284324, \n",
    "          'colsample_bytree': 0.6173075657509195, \n",
    "          'gamma': 2.534318254800432, \n",
    "          'reg_alpha': 28.608542170321446, \n",
    "          'reg_lambda': 9.564406519071592e-08, \n",
    "          'min_child_weight': 46.43542065154699}\n",
    "\n",
    "model = XGBRegressor(**params)\n",
    "scores = []\n",
    "for fold, (train_index, test_index) in enumerate(cv.split(X,y)):\n",
    "    X_train, X_test, y_train, y_test = X.iloc[train_index], X.iloc[test_index], y.iloc[train_index], y.iloc[test_index]\n",
    "\n",
    "    model.fit(X_train, y_train)\n",
    "    y_pred = model.predict(X_test)\n",
    "    \n",
    "    rmse = np.sqrt(mean_squared_error(y_test, y_pred))\n",
    "    print(f'#### Fold {fold} ####')\n",
    "    print(f' RMSE = {rmse}')\n",
    "    scores.append(rmse)\n",
    "\n",
    "print(f'Average RMSE score = {np.mean(scores):.2f}') # 3330"
   ]
  },
  {
   "cell_type": "code",
   "execution_count": 18,
   "id": "f9a70f3e-6432-476e-ac36-95209a32e49e",
   "metadata": {},
   "outputs": [
    {
     "data": {
      "text/plain": [
       "{'srcid': 1928730.625,\n",
       " 'destid': 2393509.5,\n",
       " 'srcid_region': 1703928.375,\n",
       " 'destid_region': 1320462.625,\n",
       " 'srcid_tier': 1519529.75,\n",
       " 'destid_tier': 1412135.125,\n",
       " 'cumsum_seatcount': 1292808.25,\n",
       " 'cumsum_searchcount': 4637109.5,\n",
       " 'doj_year': 488999.25,\n",
       " 'doj_month': 427468.0625,\n",
       " 'doj_day': 319363.78125,\n",
       " 'doj_dayofweek': 737800.6875,\n",
       " 'doj_isweekend': 572971.9375,\n",
       " 'doj_month_sin': 486663.40625,\n",
       " 'doj_month_cos': 728158.6875,\n",
       " 'avg_cumsum': 503260.3125,\n",
       " 'trips': 282838.6875}"
      ]
     },
     "execution_count": 18,
     "metadata": {},
     "output_type": "execute_result"
    }
   ],
   "source": [
    "model.get_booster().get_score(importance_type='gain')"
   ]
  },
  {
   "cell_type": "markdown",
   "id": "c2aeca94-3362-4b9d-b4b5-7542b1d7c54d",
   "metadata": {},
   "source": [
    "# Submission"
   ]
  },
  {
   "cell_type": "code",
   "execution_count": 20,
   "id": "e4598d22-69e5-4c12-951c-47f398316902",
   "metadata": {},
   "outputs": [],
   "source": [
    "params = {'n_estimators': 1755, \n",
    "          'max_depth': 11, \n",
    "          'learning_rate': 0.03625453861957001, \n",
    "          'subsample': 0.7790066451555812, \n",
    "          'colsample_bytree': 0.6731412472295383, \n",
    "          'gamma': 2.4418878678623215, \n",
    "          'reg_alpha': 2.1597525096902664e-08, \n",
    "          'reg_lambda': 2.4766274326222894e-05, \n",
    "          'min_child_weight': 37.88062782224772}\n",
    "\n",
    "model = XGBRegressor(**params)\n",
    "model.fit(X,y)\n",
    "y_pred = model.predict(test_df)\n",
    "\n",
    "final_df = pd.DataFrame(test_data['route_key'])\n",
    "final_df['final_seatcount'] = pd.Series(y_pred)\n",
    "\n",
    "final_df.to_csv('submission.csv', index = False)"
   ]
  },
  {
   "cell_type": "code",
   "execution_count": null,
   "id": "3020d489-41aa-407c-a9a4-b603d2acb3f4",
   "metadata": {},
   "outputs": [],
   "source": []
  }
 ],
 "metadata": {
  "kernelspec": {
   "display_name": "Python 3 (ipykernel)",
   "language": "python",
   "name": "python3"
  },
  "language_info": {
   "codemirror_mode": {
    "name": "ipython",
    "version": 3
   },
   "file_extension": ".py",
   "mimetype": "text/x-python",
   "name": "python",
   "nbconvert_exporter": "python",
   "pygments_lexer": "ipython3",
   "version": "3.11.9"
  }
 },
 "nbformat": 4,
 "nbformat_minor": 5
}
